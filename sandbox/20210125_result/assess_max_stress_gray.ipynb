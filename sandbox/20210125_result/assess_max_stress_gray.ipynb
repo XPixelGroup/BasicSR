{
 "cells": [
  {
   "cell_type": "code",
   "execution_count": 24,
   "metadata": {},
   "outputs": [],
   "source": [
    "from PIL import Image\n",
    "import os\n",
    "import numpy as np\n",
    "from collections import OrderedDict\n",
    "\n",
    "results = ['ESRGAN_gray_x4_01_v2', 'ESRGAN_gray_x4_02_v2', 'ESRGAN_gray_x4_03_v2', 'ESRGAN_gray_x4_04_v2']\n",
    "# main_test_results = ['test_gray4', 'test_gray6']\n",
    "test_results = ['test1_gray', 'test2_gray', 'test3_gray', 'test4_gray', 'test5_gray']\n",
    "# 応力の範囲\n",
    "stress_list = [[1.186, 29780],[181.1, 27820],[0.6415, 1537],[14.18, 31050],[45.58, 7099]]\n",
    "\n",
    "current_dir = os.getcwd()\n",
    "\n",
    "# images_dir = current_dir + '/' + results[0] + '/visualization/dataset_test_grayscale_v2/'\n",
    "# images = os.listdir(images_dir)\n",
    "# images = [i for i in images if os.path.isfile(os.path.join(images_dir, i))]\n",
    "\n",
    "gt_dir = '/Users/maruyan/Desktop/鈴木研/SR_experiments/BasicSR/datasets/dataset_test_grayscale_v2/gt/'\n",
    "gt_images = [Image.open(gt_dir + i + '.png').convert('L') for i in test_results]\n",
    "lq_dir = '/Users/maruyan/Desktop/鈴木研/SR_experiments/BasicSR/datasets/dataset_test_grayscale_v2/lq/'\n",
    "lq_images = [Image.open(lq_dir + i + '.png').convert('L') for i in test_results]\n",
    "\n",
    "additional_test_model1_dir = '/Users/maruyan/desktop/鈴木研/SR_experiments/additional_result/additional_test_1/'\n",
    "additional_test_model2_dir = '/Users/maruyan/desktop/鈴木研/SR_experiments/additional_result/additional_test_2/'\n",
    "\n",
    "additional_test_model1_images = [Image.open(additional_test_model1_dir + i + '_400000.png').convert('L') for i in test_results]\n",
    "additional_test_model2_images = [Image.open(additional_test_model2_dir + i + '_400000.png').convert('L') for i in test_results]\n",
    "\n",
    "def get_test_images(result_case):\n",
    "    get_dir = current_dir + '/' + results[result_case] + '/visualization/dataset_test_grayscale_v2/'\n",
    "    return [Image.open(get_dir + i + '_' + results[result_case] + '.png').convert('L') for i in test_results]\n",
    "\n"
   ]
  },
  {
   "cell_type": "code",
   "execution_count": 2,
   "metadata": {},
   "outputs": [],
   "source": [
    "stress_results = OrderedDict()\n",
    "for i in results:\n",
    "    stress_results[i] = OrderedDict()"
   ]
  },
  {
   "cell_type": "code",
   "execution_count": 3,
   "metadata": {},
   "outputs": [],
   "source": [
    "def compute_max_stress_ratio(test_index, min_lum):\n",
    "    max_stress = stress_list[test_index][1]\n",
    "    min_stress = stress_list[test_index][0]\n",
    "    max_stress_predict = max_stress - ((max_stress - min_stress) / 255) * min_lum\n",
    "    max_ratio = max_stress_predict / max_stress\n",
    "#     result = OrderedDict()\n",
    "#     result['max_stress'] = max_stress\n",
    "#     result['max_ratio'] = max_ratio\n",
    "    return max_ratio"
   ]
  },
  {
   "cell_type": "code",
   "execution_count": 4,
   "metadata": {},
   "outputs": [],
   "source": [
    "def compute_average_error_ratio(test_img, test_index, max_pixel):\n",
    "    gt_img = cropped_gt_images[test_index]\n",
    "    gt_min_pixels = stress_high_pixels(gt_img, max_pixel)\n",
    "    pixel_num = gt_min_pixels[0].size\n",
    "    error_sum = 0\n",
    "    for i in range(pixel_num):\n",
    "        x = gt_min_pixels[0][i]\n",
    "        y = gt_min_pixels[1][i]\n",
    "#         print(np.array(test_img)[x, y])\n",
    "        error = np.abs(np.array(test_img)[x, y] - np.array(gt_img)[x, y])\n",
    "#         print(error)\n",
    "        error_sum += error\n",
    "    max_stress = stress_list[test_index][1]\n",
    "    min_stress = stress_list[test_index][0]\n",
    "    average_error = (error_sum / pixel_num) * ((max_stress - min_stress) / 255)\n",
    "    print(pixel_num)\n",
    "#     print(error_sum)\n",
    "#     print(max_stress, min_stress)\n",
    "    print(error_sum / pixel_num)\n",
    "    print(average_error / max_stress)\n",
    "    return average_error / max_stress"
   ]
  },
  {
   "cell_type": "code",
   "execution_count": 5,
   "metadata": {},
   "outputs": [
    {
     "data": {
      "text/plain": [
       "[]"
      ]
     },
     "execution_count": 5,
     "metadata": {},
     "output_type": "execute_result"
    }
   ],
   "source": [
    "cropped_gt_images = []\n",
    "cropped_gt_images"
   ]
  },
  {
   "cell_type": "code",
   "execution_count": 6,
   "metadata": {},
   "outputs": [],
   "source": [
    "gt_images[0].crop((400,0,1024,704))\n",
    "cropped_gt_images.append(gt_images[0].crop((400,0,1024,704)))"
   ]
  },
  {
   "cell_type": "code",
   "execution_count": 7,
   "metadata": {},
   "outputs": [],
   "source": [
    "gt_images[1].crop((400,0,1024,704))\n",
    "cropped_gt_images.append(gt_images[1].crop((400,0,1024,704)))"
   ]
  },
  {
   "cell_type": "code",
   "execution_count": 8,
   "metadata": {},
   "outputs": [],
   "source": [
    "gt_images[2].crop((40, 100, 1384, 604))\n",
    "cropped_gt_images.append(gt_images[2].crop((40,100,1384,604)))"
   ]
  },
  {
   "cell_type": "code",
   "execution_count": 9,
   "metadata": {},
   "outputs": [],
   "source": [
    "gt_images[3].crop((300, 0, 1124, 704))\n",
    "cropped_gt_images.append(gt_images[3].crop((300,0,1124,704)))"
   ]
  },
  {
   "cell_type": "code",
   "execution_count": 10,
   "metadata": {},
   "outputs": [],
   "source": [
    "gt_images[4].crop((300,0,1124,704))\n",
    "cropped_gt_images.append(gt_images[4].crop((300,0,1124,704)))"
   ]
  },
  {
   "cell_type": "code",
   "execution_count": 11,
   "metadata": {},
   "outputs": [],
   "source": [
    "def stress_high_pixels(gt_img, max_pixel):\n",
    "    array = np.array(gt_img)\n",
    "#     flat_array = array.flatten()\n",
    "#     first_quarter = np.percentile(flat_array[flat_array < 255], 20)\n",
    "#     print(first_quarter)\n",
    "    return np.where(array < max_pixel)\n",
    "# ji = np.array(cropped_gt_images[1]).flatten()\n",
    "# np.percentile(ji[ji < 255], 25)"
   ]
  },
  {
   "cell_type": "code",
   "execution_count": 27,
   "metadata": {
    "scrolled": true
   },
   "outputs": [
    {
     "data": {
      "text/plain": [
       "(array([152, 152, 152, ..., 548, 548, 548]),\n",
       " array([ 99, 100, 101, ..., 100, 101, 102]))"
      ]
     },
     "execution_count": 27,
     "metadata": {},
     "output_type": "execute_result"
    }
   ],
   "source": [
    "a = stress_high_pixels(cropped_gt_images[0], 128)\n",
    "a"
   ]
  },
  {
   "cell_type": "code",
   "execution_count": 26,
   "metadata": {
    "scrolled": true
   },
   "outputs": [
    {
     "name": "stderr",
     "output_type": "stream",
     "text": [
      "<ipython-input-4-45eb5b0ff628>:10: RuntimeWarning: overflow encountered in ubyte_scalars\n",
      "  error = np.abs(np.array(test_img)[x, y] - np.array(gt_img)[x, y])\n"
     ]
    },
    {
     "name": "stdout",
     "output_type": "stream",
     "text": [
      "1296\n",
      "69.35185185185185\n",
      "0.2719572152453748\n"
     ]
    },
    {
     "data": {
      "text/plain": [
       "0.2719572152453748"
      ]
     },
     "execution_count": 26,
     "metadata": {},
     "output_type": "execute_result"
    }
   ],
   "source": [
    "compute_average_error_ratio(cropped_lq_images[0], 0, 128)"
   ]
  },
  {
   "cell_type": "code",
   "execution_count": 12,
   "metadata": {
    "scrolled": true
   },
   "outputs": [
    {
     "name": "stdout",
     "output_type": "stream",
     "text": [
      "1296\n"
     ]
    },
    {
     "data": {
      "image/png": "[encoded data removed]",
      "text/plain": [
       "<PIL.Image.Image image mode=L size=624x704 at 0x115FCCC90>"
      ]
     },
     "execution_count": 12,
     "metadata": {},
     "output_type": "execute_result"
    }
   ],
   "source": [
    "ar = np.array(cropped_gt_images[0])\n",
    "where = np.where(ar < 128)\n",
    "print(np.where(ar < 128)[0].size)\n",
    "Image.fromarray(np.where(ar < 128, ar, 255))\n",
    "# Image.fromarray(ar)"
   ]
  },
  {
   "cell_type": "code",
   "execution_count": 21,
   "metadata": {
    "scrolled": false
   },
   "outputs": [
    {
     "data": {
      "image/png": "[encoded data removed]",
      "text/plain": [
       "<PIL.Image.Image image mode=L size=824x704 at 0x10D28A430>"
      ]
     },
     "execution_count": 21,
     "metadata": {},
     "output_type": "execute_result"
    }
   ],
   "source": [
    "# m1_image_test1 = np.array(m1_images[0].crop((400,0,1024,704)))\n",
    "ar = np.array(cropped_gt_images[4])\n",
    "# compute_average_error_ratio(m1_image_test5, 4, 128)\n",
    "Image.fromarray(np.where(ar < 128, cropped_gt_images[4], 255))"
   ]
  },
  {
   "cell_type": "code",
   "execution_count": 41,
   "metadata": {},
   "outputs": [
    {
     "data": {
      "image/png": "[encoded data removed]",
      "text/plain": [
       "<PIL.Image.Image image mode=L size=824x704 at 0x11AC42050>"
      ]
     },
     "execution_count": 41,
     "metadata": {},
     "output_type": "execute_result"
    }
   ],
   "source": [
    "ar = np.array(cropped_gt_images[4])\n",
    "# compute_average_error_ratio(m1_image_test5, 4, 128)\n",
    "Image.fromarray(np.where(ar < 64, cropped_gt_images[4], 255))"
   ]
  },
  {
   "cell_type": "code",
   "execution_count": 15,
   "metadata": {},
   "outputs": [],
   "source": [
    "m1_images = get_test_images(0)"
   ]
  },
  {
   "cell_type": "code",
   "execution_count": 16,
   "metadata": {},
   "outputs": [
    {
     "name": "stderr",
     "output_type": "stream",
     "text": [
      "/Users/maruyan/.pyenv/versions/3.7.7/lib/python3.7/site-packages/ipykernel_launcher.py:10: RuntimeWarning: overflow encountered in ubyte_scalars\n",
      "  # Remove the CWD from sys.path while we load stuff.\n"
     ]
    },
    {
     "name": "stdout",
     "output_type": "stream",
     "text": [
      "1296\n",
      "86.32716049382717\n",
      "0.3385244018875449\n"
     ]
    },
    {
     "data": {
      "text/plain": [
       "0.3385244018875449"
      ]
     },
     "execution_count": 16,
     "metadata": {},
     "output_type": "execute_result"
    }
   ],
   "source": [
    "# model1 test1\n",
    "m1_images = get_test_images(0)\n",
    "m1_image_test1 = m1_images[0].crop((400,0,1024,704))\n",
    "# m1_image_test1\n",
    "# cropped_gt_images[0]\n",
    "m1_test1_max = compute_max_stress_ratio(0, np.array(m1_image_test1).flatten().min())\n",
    "m1_test1_error = compute_average_error_ratio(m1_image_test1, 0, 128)\n",
    "# np.abs(1 - 10)\n",
    "m1_test1_error"
   ]
  },
  {
   "cell_type": "code",
   "execution_count": 101,
   "metadata": {},
   "outputs": [
    {
     "data": {
      "text/plain": [
       "OrderedDict([('ESRGAN_gray_x4_01_v2',\n",
       "              OrderedDict([('test1_gray',\n",
       "                            OrderedDict([('max_ratio', 1.0),\n",
       "                                         ('average_error_ratio_128',\n",
       "                                          0.3385244018875449)]))])),\n",
       "             ('ESRGAN_gray_x4_02_v2', OrderedDict()),\n",
       "             ('ESRGAN_gray_x4_03_v2', OrderedDict()),\n",
       "             ('ESRGAN_gray_x4_04_v2', OrderedDict()),\n",
       "             ('lq', OrderedDict())])"
      ]
     },
     "execution_count": 101,
     "metadata": {},
     "output_type": "execute_result"
    }
   ],
   "source": [
    "stress_results[results[0]][test_results[0]] = OrderedDict()\n",
    "stress_results[results[0]][test_results[0]][\"max_ratio\"] = m1_test1_max\n",
    "stress_results[results[0]][test_results[0]][\"average_error_ratio_128\"] = m1_test1_error\n",
    "stress_results"
   ]
  },
  {
   "cell_type": "code",
   "execution_count": 28,
   "metadata": {},
   "outputs": [
    {
     "name": "stderr",
     "output_type": "stream",
     "text": [
      "/Users/maruyan/.pyenv/versions/3.7.7/lib/python3.7/site-packages/ipykernel_launcher.py:10: RuntimeWarning: overflow encountered in ubyte_scalars\n",
      "  # Remove the CWD from sys.path while we load stuff.\n"
     ]
    },
    {
     "name": "stdout",
     "output_type": "stream",
     "text": [
      "17083\n",
      "142.93022302874203\n",
      "0.556861919238395\n",
      "1.0 0.556861919238395\n"
     ]
    }
   ],
   "source": [
    "# model1 test2\n",
    "m1_image_test2 = m1_images[1].crop((400,0,1024,704))\n",
    "m1_test2_max = compute_max_stress_ratio(1, np.array(m1_image_test2).flatten().min())\n",
    "m1_test2_error = compute_average_error_ratio(m1_image_test2, 1,128)\n",
    "print(m1_test2_max, m1_test2_error)"
   ]
  },
  {
   "cell_type": "code",
   "execution_count": 103,
   "metadata": {},
   "outputs": [
    {
     "data": {
      "text/plain": [
       "OrderedDict([('ESRGAN_gray_x4_01_v2',\n",
       "              OrderedDict([('test1_gray',\n",
       "                            OrderedDict([('max_ratio', 1.0),\n",
       "                                         ('average_error_ratio_128',\n",
       "                                          0.3385244018875449)])),\n",
       "                           ('test2_gray',\n",
       "                            OrderedDict([('max_ratio', 1.0),\n",
       "                                         ('average_error_ratio_128',\n",
       "                                          0.556861919238395)]))])),\n",
       "             ('ESRGAN_gray_x4_02_v2', OrderedDict()),\n",
       "             ('ESRGAN_gray_x4_03_v2', OrderedDict()),\n",
       "             ('ESRGAN_gray_x4_04_v2', OrderedDict()),\n",
       "             ('lq', OrderedDict())])"
      ]
     },
     "execution_count": 103,
     "metadata": {},
     "output_type": "execute_result"
    }
   ],
   "source": [
    "stress_results[results[0]][test_results[1]] = OrderedDict()\n",
    "stress_results[results[0]][test_results[1]][\"max_ratio\"] = m1_test2_max\n",
    "stress_results[results[0]][test_results[1]][\"average_error_ratio_128\"] = m1_test2_error\n",
    "stress_results"
   ]
  },
  {
   "cell_type": "code",
   "execution_count": 29,
   "metadata": {
    "scrolled": true
   },
   "outputs": [
    {
     "name": "stderr",
     "output_type": "stream",
     "text": [
      "/Users/maruyan/.pyenv/versions/3.7.7/lib/python3.7/site-packages/ipykernel_launcher.py:10: RuntimeWarning: overflow encountered in ubyte_scalars\n",
      "  # Remove the CWD from sys.path while we load stuff.\n"
     ]
    },
    {
     "name": "stdout",
     "output_type": "stream",
     "text": [
      "57909\n",
      "100.00319466749555\n",
      "0.39200571052486116\n"
     ]
    },
    {
     "data": {
      "text/plain": [
       "OrderedDict([('ESRGAN_gray_x4_01_v2',\n",
       "              OrderedDict([('test4_gray',\n",
       "                            OrderedDict([('max_ratio', 0.9568824451390862),\n",
       "                                         ('average_error_ratio_128',\n",
       "                                          0.2964687981145909)])),\n",
       "                           ('test3_gray',\n",
       "                            OrderedDict([('max_ratio', 1.0),\n",
       "                                         ('average_error_ratio_128',\n",
       "                                          0.39200571052486116)]))])),\n",
       "             ('ESRGAN_gray_x4_02_v2', OrderedDict()),\n",
       "             ('ESRGAN_gray_x4_03_v2', OrderedDict()),\n",
       "             ('ESRGAN_gray_x4_04_v2', OrderedDict())])"
      ]
     },
     "execution_count": 29,
     "metadata": {},
     "output_type": "execute_result"
    }
   ],
   "source": [
    "# model1 test3\n",
    "m1_image_test3 = m1_images[2].crop((40,100,1384,604))\n",
    "m1_test3_max = compute_max_stress_ratio(2, np.array(m1_image_test3).flatten().min())\n",
    "m1_test3_error = compute_average_error_ratio(m1_image_test3, 2, 128)\n",
    "stress_results[results[0]][test_results[2]] = OrderedDict()\n",
    "stress_results[results[0]][test_results[2]][\"max_ratio\"] = m1_test3_max\n",
    "stress_results[results[0]][test_results[2]][\"average_error_ratio_128\"] = m1_test3_error\n",
    "stress_results"
   ]
  },
  {
   "cell_type": "code",
   "execution_count": 24,
   "metadata": {
    "scrolled": true
   },
   "outputs": [
    {
     "name": "stderr",
     "output_type": "stream",
     "text": [
      "/Users/maruyan/.pyenv/versions/3.7.7/lib/python3.7/site-packages/ipykernel_launcher.py:10: RuntimeWarning: overflow encountered in ubyte_scalars\n",
      "  # Remove the CWD from sys.path while we load stuff.\n"
     ]
    },
    {
     "name": "stdout",
     "output_type": "stream",
     "text": [
      "2752\n",
      "75.63408430232558\n",
      "0.2964687981145909\n"
     ]
    },
    {
     "data": {
      "text/plain": [
       "OrderedDict([('ESRGAN_gray_x4_01_v2',\n",
       "              OrderedDict([('test4_gray',\n",
       "                            OrderedDict([('max_ratio', 0.9568824451390862),\n",
       "                                         ('average_error_ratio_128',\n",
       "                                          0.2964687981145909)]))])),\n",
       "             ('ESRGAN_gray_x4_02_v2', OrderedDict()),\n",
       "             ('ESRGAN_gray_x4_03_v2', OrderedDict()),\n",
       "             ('ESRGAN_gray_x4_04_v2', OrderedDict())])"
      ]
     },
     "execution_count": 24,
     "metadata": {},
     "output_type": "execute_result"
    }
   ],
   "source": [
    "# model1 test4\n",
    "m1_image_test4 = m1_images[3].crop((300,0,1124,704))\n",
    "m1_test4_max = compute_max_stress_ratio(3, np.array(m1_image_test4).flatten().min())\n",
    "m1_test4_error = compute_average_error_ratio(m1_image_test4, 3, 128)\n",
    "stress_results[results[0]][test_results[3]] = OrderedDict()\n",
    "stress_results[results[0]][test_results[3]][\"max_ratio\"] = m1_test4_max\n",
    "stress_results[results[0]][test_results[3]][\"average_error_ratio_128\"] = m1_test4_error\n",
    "stress_results"
   ]
  },
  {
   "cell_type": "code",
   "execution_count": 30,
   "metadata": {
    "scrolled": true
   },
   "outputs": [
    {
     "name": "stderr",
     "output_type": "stream",
     "text": [
      "/Users/maruyan/.pyenv/versions/3.7.7/lib/python3.7/site-packages/ipykernel_launcher.py:10: RuntimeWarning: overflow encountered in ubyte_scalars\n",
      "  # Remove the CWD from sys.path while we load stuff.\n"
     ]
    },
    {
     "name": "stdout",
     "output_type": "stream",
     "text": [
      "20891\n",
      "137.98506533914124\n",
      "0.5376435894392226\n"
     ]
    },
    {
     "data": {
      "text/plain": [
       "OrderedDict([('ESRGAN_gray_x4_01_v2',\n",
       "              OrderedDict([('test4_gray',\n",
       "                            OrderedDict([('max_ratio', 0.9568824451390862),\n",
       "                                         ('average_error_ratio_128',\n",
       "                                          0.2964687981145909)])),\n",
       "                           ('test3_gray',\n",
       "                            OrderedDict([('max_ratio', 1.0),\n",
       "                                         ('average_error_ratio_128',\n",
       "                                          0.39200571052486116)])),\n",
       "                           ('test5_gray',\n",
       "                            OrderedDict([('max_ratio', 1.0),\n",
       "                                         ('average_error_ratio_128',\n",
       "                                          0.5376435894392226)]))])),\n",
       "             ('ESRGAN_gray_x4_02_v2', OrderedDict()),\n",
       "             ('ESRGAN_gray_x4_03_v2', OrderedDict()),\n",
       "             ('ESRGAN_gray_x4_04_v2', OrderedDict())])"
      ]
     },
     "execution_count": 30,
     "metadata": {},
     "output_type": "execute_result"
    }
   ],
   "source": [
    "# model1 test5\n",
    "m1_image_test5 = m1_images[4].crop((300,0,1124,704))\n",
    "m1_test5_max = compute_max_stress_ratio(4, np.array(m1_image_test5).flatten().min())\n",
    "m1_test5_error = compute_average_error_ratio(m1_image_test5, 4, 128)\n",
    "stress_results[results[0]][test_results[4]] = OrderedDict()\n",
    "stress_results[results[0]][test_results[4]][\"max_ratio\"] = m1_test5_max\n",
    "stress_results[results[0]][test_results[4]][\"average_error_ratio_128\"] = m1_test5_error\n",
    "stress_results"
   ]
  },
  {
   "cell_type": "code",
   "execution_count": 108,
   "metadata": {},
   "outputs": [],
   "source": [
    "m2_images = get_test_images(1)"
   ]
  },
  {
   "cell_type": "code",
   "execution_count": 109,
   "metadata": {},
   "outputs": [
    {
     "name": "stdout",
     "output_type": "stream",
     "text": [
      "1296\n",
      "148.66280864197532\n",
      "0.5829681885812265\n",
      "0.011804062734563284 0.5829681885812265\n"
     ]
    }
   ],
   "source": [
    "# model2 test1\n",
    "m2_image_test1 = m2_images[0].crop((400,0,1024,704))\n",
    "m2_test1_max = compute_max_stress_ratio(0, np.array(m2_image_test1).flatten().min())\n",
    "m2_test1_error = compute_average_error_ratio(m2_image_test1, 0, 128)\n",
    "print(m2_test1_max, m2_test1_error)"
   ]
  },
  {
   "cell_type": "code",
   "execution_count": 110,
   "metadata": {
    "scrolled": true
   },
   "outputs": [
    {
     "data": {
      "text/plain": [
       "OrderedDict([('ESRGAN_gray_x4_01_v2',\n",
       "              OrderedDict([('test1_gray',\n",
       "                            OrderedDict([('max_ratio', 1.0),\n",
       "                                         ('average_error_ratio_128',\n",
       "                                          0.3385244018875449)])),\n",
       "                           ('test2_gray',\n",
       "                            OrderedDict([('max_ratio', 1.0),\n",
       "                                         ('average_error_ratio_128',\n",
       "                                          0.556861919238395)])),\n",
       "                           ('test3_gray',\n",
       "                            OrderedDict([('max_ratio', 1.0),\n",
       "                                         ('average_error_ratio_128',\n",
       "                                          0.39200571052486116)])),\n",
       "                           ('test4_gray',\n",
       "                            OrderedDict([('max_ratio', 0.9568824451390862),\n",
       "                                         ('average_error_ratio_128',\n",
       "                                          0.2964687981145909)])),\n",
       "                           ('test5_gray',\n",
       "                            OrderedDict([('max_ratio', 1.0),\n",
       "                                         ('average_error_ratio_128',\n",
       "                                          0.5376435894392226)]))])),\n",
       "             ('ESRGAN_gray_x4_02_v2',\n",
       "              OrderedDict([('test1_gray',\n",
       "                            OrderedDict([('max_ratio', 0.011804062734563284),\n",
       "                                         ('average_error_ratio_128',\n",
       "                                          0.5829681885812265)]))])),\n",
       "             ('ESRGAN_gray_x4_03_v2', OrderedDict()),\n",
       "             ('ESRGAN_gray_x4_04_v2', OrderedDict()),\n",
       "             ('lq', OrderedDict())])"
      ]
     },
     "execution_count": 110,
     "metadata": {},
     "output_type": "execute_result"
    }
   ],
   "source": [
    "stress_results[results[1]][test_results[0]] = OrderedDict()\n",
    "stress_results[results[1]][test_results[0]][\"max_ratio\"] = m2_test1_max\n",
    "stress_results[results[1]][test_results[0]][\"average_error_ratio_128\"] = m2_test1_error\n",
    "stress_results"
   ]
  },
  {
   "cell_type": "code",
   "execution_count": 111,
   "metadata": {
    "scrolled": true
   },
   "outputs": [
    {
     "name": "stdout",
     "output_type": "stream",
     "text": [
      "17083\n",
      "143.28771293098401\n",
      "0.5582547143299607\n"
     ]
    },
    {
     "data": {
      "text/plain": [
       "OrderedDict([('ESRGAN_gray_x4_01_v2',\n",
       "              OrderedDict([('test1_gray',\n",
       "                            OrderedDict([('max_ratio', 1.0),\n",
       "                                         ('average_error_ratio_128',\n",
       "                                          0.3385244018875449)])),\n",
       "                           ('test2_gray',\n",
       "                            OrderedDict([('max_ratio', 1.0),\n",
       "                                         ('average_error_ratio_128',\n",
       "                                          0.556861919238395)])),\n",
       "                           ('test3_gray',\n",
       "                            OrderedDict([('max_ratio', 1.0),\n",
       "                                         ('average_error_ratio_128',\n",
       "                                          0.39200571052486116)])),\n",
       "                           ('test4_gray',\n",
       "                            OrderedDict([('max_ratio', 0.9568824451390862),\n",
       "                                         ('average_error_ratio_128',\n",
       "                                          0.2964687981145909)])),\n",
       "                           ('test5_gray',\n",
       "                            OrderedDict([('max_ratio', 1.0),\n",
       "                                         ('average_error_ratio_128',\n",
       "                                          0.5376435894392226)]))])),\n",
       "             ('ESRGAN_gray_x4_02_v2',\n",
       "              OrderedDict([('test1_gray',\n",
       "                            OrderedDict([('max_ratio', 0.011804062734563284),\n",
       "                                         ('average_error_ratio_128',\n",
       "                                          0.5829681885812265)])),\n",
       "                           ('test2_gray',\n",
       "                            OrderedDict([('max_ratio', 0.018197826362752138),\n",
       "                                         ('average_error_ratio_128',\n",
       "                                          0.5582547143299607)]))])),\n",
       "             ('ESRGAN_gray_x4_03_v2', OrderedDict()),\n",
       "             ('ESRGAN_gray_x4_04_v2', OrderedDict()),\n",
       "             ('lq', OrderedDict())])"
      ]
     },
     "execution_count": 111,
     "metadata": {},
     "output_type": "execute_result"
    }
   ],
   "source": [
    "# model2 test2\n",
    "m2_image_test2 = m2_images[1].crop((400,0,1024,704))\n",
    "m2_test2_max = compute_max_stress_ratio(1, np.array(m2_image_test2).flatten().min())\n",
    "m2_test2_error = compute_average_error_ratio(m2_image_test2, 1, 128)\n",
    "stress_results[results[1]][test_results[1]] = OrderedDict()\n",
    "stress_results[results[1]][test_results[1]][\"max_ratio\"] = m2_test2_max\n",
    "stress_results[results[1]][test_results[1]][\"average_error_ratio_128\"] = m2_test2_error\n",
    "stress_results"
   ]
  },
  {
   "cell_type": "code",
   "execution_count": 238,
   "metadata": {
    "scrolled": true
   },
   "outputs": [
    {
     "name": "stdout",
     "output_type": "stream",
     "text": [
      "130\n",
      "27447\n",
      "27820 181.1\n"
     ]
    },
    {
     "data": {
      "text/plain": [
       "0.8225740006050533"
      ]
     },
     "execution_count": 238,
     "metadata": {},
     "output_type": "execute_result"
    }
   ],
   "source": [
    "compute_average_error_ratio(m2_image_test2, 1)"
   ]
  },
  {
   "cell_type": "code",
   "execution_count": 250,
   "metadata": {
    "scrolled": true
   },
   "outputs": [
    {
     "name": "stdout",
     "output_type": "stream",
     "text": [
      "130\n",
      "0.8225740006050533\n"
     ]
    },
    {
     "data": {
      "text/plain": [
       "OrderedDict([('ESRGAN_gray_x4_01_v2',\n",
       "              OrderedDict([('test1_gray',\n",
       "                            OrderedDict([('max_ratio', 1.0),\n",
       "                                         ('average_error_ratio',\n",
       "                                          0.32697499500512833)])),\n",
       "                           ('test2_gray',\n",
       "                            OrderedDict([('max_ratio', 1.0),\n",
       "                                         ('average_error_ratio',\n",
       "                                          0.38537833183154363)])),\n",
       "                           ('test3_gray',\n",
       "                            OrderedDict([('max_ratio', 1.0),\n",
       "                                         ('average_error_ratio',\n",
       "                                          0.12399508736867147)])),\n",
       "                           ('test4_gray',\n",
       "                            OrderedDict([('max_ratio', 0.9568824451390862),\n",
       "                                         ('average_error_ratio',\n",
       "                                          0.2017285602421323)])),\n",
       "                           ('test5_gray',\n",
       "                            OrderedDict([('max_ratio', 1.0),\n",
       "                                         ('average_error_ratio',\n",
       "                                          0.4045265825823809)]))])),\n",
       "             ('ESRGAN_gray_x4_02_v2',\n",
       "              OrderedDict([('test1_gray',\n",
       "                            OrderedDict([('max_ratio', 0.011804062734563284),\n",
       "                                         ('average_error_ratio',\n",
       "                                          0.8407072579160758)])),\n",
       "                           ('test2_gray',\n",
       "                            OrderedDict([('max_ratio', 0.018197826362752138),\n",
       "                                         ('average_error_ratio',\n",
       "                                          0.8225740006050533)]))])),\n",
       "             ('ESRGAN_gray_x4_03_v2', OrderedDict()),\n",
       "             ('ESRGAN_gray_x4_04_v2', OrderedDict())])"
      ]
     },
     "execution_count": 250,
     "metadata": {},
     "output_type": "execute_result"
    }
   ],
   "source": [
    "stress_results[results[1]][test_results[1]][\"average_error_ratio\"] = compute_average_error_ratio(m2_image_test2, 1)\n",
    "stress_results"
   ]
  },
  {
   "cell_type": "code",
   "execution_count": 112,
   "metadata": {
    "scrolled": true
   },
   "outputs": [
    {
     "name": "stdout",
     "output_type": "stream",
     "text": [
      "57909\n",
      "159.73978138113247\n",
      "0.6261690609745101\n"
     ]
    },
    {
     "data": {
      "text/plain": [
       "OrderedDict([('ESRGAN_gray_x4_01_v2',\n",
       "              OrderedDict([('test1_gray',\n",
       "                            OrderedDict([('max_ratio', 1.0),\n",
       "                                         ('average_error_ratio_128',\n",
       "                                          0.3385244018875449)])),\n",
       "                           ('test2_gray',\n",
       "                            OrderedDict([('max_ratio', 1.0),\n",
       "                                         ('average_error_ratio_128',\n",
       "                                          0.556861919238395)])),\n",
       "                           ('test3_gray',\n",
       "                            OrderedDict([('max_ratio', 1.0),\n",
       "                                         ('average_error_ratio_128',\n",
       "                                          0.39200571052486116)])),\n",
       "                           ('test4_gray',\n",
       "                            OrderedDict([('max_ratio', 0.9568824451390862),\n",
       "                                         ('average_error_ratio_128',\n",
       "                                          0.2964687981145909)])),\n",
       "                           ('test5_gray',\n",
       "                            OrderedDict([('max_ratio', 1.0),\n",
       "                                         ('average_error_ratio_128',\n",
       "                                          0.5376435894392226)]))])),\n",
       "             ('ESRGAN_gray_x4_02_v2',\n",
       "              OrderedDict([('test1_gray',\n",
       "                            OrderedDict([('max_ratio', 0.011804062734563284),\n",
       "                                         ('average_error_ratio_128',\n",
       "                                          0.5829681885812265)])),\n",
       "                           ('test2_gray',\n",
       "                            OrderedDict([('max_ratio', 0.018197826362752138),\n",
       "                                         ('average_error_ratio_128',\n",
       "                                          0.5582547143299607)])),\n",
       "                           ('test3_gray',\n",
       "                            OrderedDict([('max_ratio', 0.016097099008764194),\n",
       "                                         ('average_error_ratio_128',\n",
       "                                          0.6261690609745101)]))])),\n",
       "             ('ESRGAN_gray_x4_03_v2', OrderedDict()),\n",
       "             ('ESRGAN_gray_x4_04_v2', OrderedDict()),\n",
       "             ('lq', OrderedDict())])"
      ]
     },
     "execution_count": 112,
     "metadata": {},
     "output_type": "execute_result"
    }
   ],
   "source": [
    "# model2 test3\n",
    "m2_image_test3 = m2_images[2].crop((40,100,1384,604))\n",
    "m2_test3_max = compute_max_stress_ratio(2, np.array(m2_image_test3).flatten().min())\n",
    "m2_test3_error = compute_average_error_ratio(m2_image_test3, 2, 128)\n",
    "stress_results[results[1]][test_results[2]] = OrderedDict()\n",
    "stress_results[results[1]][test_results[2]][\"max_ratio\"] = m2_test3_max\n",
    "stress_results[results[1]][test_results[2]][\"average_error_ratio_128\"] = m2_test3_error\n",
    "stress_results"
   ]
  },
  {
   "cell_type": "code",
   "execution_count": 113,
   "metadata": {
    "scrolled": true
   },
   "outputs": [
    {
     "name": "stdout",
     "output_type": "stream",
     "text": [
      "2752\n",
      "137.32412790697674\n",
      "0.5382800562505645\n"
     ]
    },
    {
     "data": {
      "text/plain": [
       "OrderedDict([('ESRGAN_gray_x4_01_v2',\n",
       "              OrderedDict([('test1_gray',\n",
       "                            OrderedDict([('max_ratio', 1.0),\n",
       "                                         ('average_error_ratio_128',\n",
       "                                          0.3385244018875449)])),\n",
       "                           ('test2_gray',\n",
       "                            OrderedDict([('max_ratio', 1.0),\n",
       "                                         ('average_error_ratio_128',\n",
       "                                          0.556861919238395)])),\n",
       "                           ('test3_gray',\n",
       "                            OrderedDict([('max_ratio', 1.0),\n",
       "                                         ('average_error_ratio_128',\n",
       "                                          0.39200571052486116)])),\n",
       "                           ('test4_gray',\n",
       "                            OrderedDict([('max_ratio', 0.9568824451390862),\n",
       "                                         ('average_error_ratio_128',\n",
       "                                          0.2964687981145909)])),\n",
       "                           ('test5_gray',\n",
       "                            OrderedDict([('max_ratio', 1.0),\n",
       "                                         ('average_error_ratio_128',\n",
       "                                          0.5376435894392226)]))])),\n",
       "             ('ESRGAN_gray_x4_02_v2',\n",
       "              OrderedDict([('test1_gray',\n",
       "                            OrderedDict([('max_ratio', 0.011804062734563284),\n",
       "                                         ('average_error_ratio_128',\n",
       "                                          0.5829681885812265)])),\n",
       "                           ('test2_gray',\n",
       "                            OrderedDict([('max_ratio', 0.018197826362752138),\n",
       "                                         ('average_error_ratio_128',\n",
       "                                          0.5582547143299607)])),\n",
       "                           ('test3_gray',\n",
       "                            OrderedDict([('max_ratio', 0.016097099008764194),\n",
       "                                         ('average_error_ratio_128',\n",
       "                                          0.6261690609745101)])),\n",
       "                           ('test4_gray',\n",
       "                            OrderedDict([('max_ratio', 0.012216015913611818),\n",
       "                                         ('average_error_ratio_128',\n",
       "                                          0.5382800562505645)]))])),\n",
       "             ('ESRGAN_gray_x4_03_v2', OrderedDict()),\n",
       "             ('ESRGAN_gray_x4_04_v2', OrderedDict()),\n",
       "             ('lq', OrderedDict())])"
      ]
     },
     "execution_count": 113,
     "metadata": {},
     "output_type": "execute_result"
    }
   ],
   "source": [
    "# model2 test4\n",
    "m2_image_test4 = m2_images[3].crop((300,0,1124,704))\n",
    "m2_test4_max = compute_max_stress_ratio(3, np.array(m2_image_test4).flatten().min())\n",
    "m2_test4_error = compute_average_error_ratio(m2_image_test4, 3, 128)\n",
    "stress_results[results[1]][test_results[3]] = OrderedDict()\n",
    "stress_results[results[1]][test_results[3]][\"max_ratio\"] = m2_test4_max\n",
    "stress_results[results[1]][test_results[3]][\"average_error_ratio_128\"] = m2_test4_error\n",
    "stress_results"
   ]
  },
  {
   "cell_type": "code",
   "execution_count": 114,
   "metadata": {
    "scrolled": true
   },
   "outputs": [
    {
     "name": "stdout",
     "output_type": "stream",
     "text": [
      "20891\n",
      "157.06878560145518\n",
      "0.6120012007971385\n"
     ]
    },
    {
     "data": {
      "text/plain": [
       "OrderedDict([('ESRGAN_gray_x4_01_v2',\n",
       "              OrderedDict([('test1_gray',\n",
       "                            OrderedDict([('max_ratio', 1.0),\n",
       "                                         ('average_error_ratio_128',\n",
       "                                          0.3385244018875449)])),\n",
       "                           ('test2_gray',\n",
       "                            OrderedDict([('max_ratio', 1.0),\n",
       "                                         ('average_error_ratio_128',\n",
       "                                          0.556861919238395)])),\n",
       "                           ('test3_gray',\n",
       "                            OrderedDict([('max_ratio', 1.0),\n",
       "                                         ('average_error_ratio_128',\n",
       "                                          0.39200571052486116)])),\n",
       "                           ('test4_gray',\n",
       "                            OrderedDict([('max_ratio', 0.9568824451390862),\n",
       "                                         ('average_error_ratio_128',\n",
       "                                          0.2964687981145909)])),\n",
       "                           ('test5_gray',\n",
       "                            OrderedDict([('max_ratio', 1.0),\n",
       "                                         ('average_error_ratio_128',\n",
       "                                          0.5376435894392226)]))])),\n",
       "             ('ESRGAN_gray_x4_02_v2',\n",
       "              OrderedDict([('test1_gray',\n",
       "                            OrderedDict([('max_ratio', 0.011804062734563284),\n",
       "                                         ('average_error_ratio_128',\n",
       "                                          0.5829681885812265)])),\n",
       "                           ('test2_gray',\n",
       "                            OrderedDict([('max_ratio', 0.018197826362752138),\n",
       "                                         ('average_error_ratio_128',\n",
       "                                          0.5582547143299607)])),\n",
       "                           ('test3_gray',\n",
       "                            OrderedDict([('max_ratio', 0.016097099008764194),\n",
       "                                         ('average_error_ratio_128',\n",
       "                                          0.6261690609745101)])),\n",
       "                           ('test4_gray',\n",
       "                            OrderedDict([('max_ratio', 0.012216015913611818),\n",
       "                                         ('average_error_ratio_128',\n",
       "                                          0.5382800562505645)])),\n",
       "                           ('test5_gray',\n",
       "                            OrderedDict([('max_ratio', 0.018109791768517475),\n",
       "                                         ('average_error_ratio_128',\n",
       "                                          0.6120012007971385)]))])),\n",
       "             ('ESRGAN_gray_x4_03_v2', OrderedDict()),\n",
       "             ('ESRGAN_gray_x4_04_v2', OrderedDict()),\n",
       "             ('lq', OrderedDict())])"
      ]
     },
     "execution_count": 114,
     "metadata": {},
     "output_type": "execute_result"
    }
   ],
   "source": [
    "# model2 test5\n",
    "m2_image_test5 = m2_images[4].crop((300,0,1124,704))\n",
    "m2_test5_max = compute_max_stress_ratio(4, np.array(m2_image_test5).flatten().min())\n",
    "m2_test5_error = compute_average_error_ratio(m2_image_test5, 4, 128)\n",
    "stress_results[results[1]][test_results[4]] = OrderedDict()\n",
    "stress_results[results[1]][test_results[4]][\"max_ratio\"] = m2_test5_max\n",
    "stress_results[results[1]][test_results[4]][\"average_error_ratio_128\"] = m2_test5_error\n",
    "stress_results"
   ]
  },
  {
   "cell_type": "code",
   "execution_count": 115,
   "metadata": {
    "scrolled": true
   },
   "outputs": [
    {
     "data": {
      "image/png": "[encoded data removed]",
      "text/plain": [
       "<PIL.Image.Image image mode=L size=1424x704 at 0x1137C7ED0>"
      ]
     },
     "execution_count": 115,
     "metadata": {},
     "output_type": "execute_result"
    }
   ],
   "source": [
    "#model3 \n",
    "m3_images = get_test_images(2)\n",
    "m3_images[0]"
   ]
  },
  {
   "cell_type": "code",
   "execution_count": 116,
   "metadata": {
    "scrolled": true
   },
   "outputs": [
    {
     "name": "stderr",
     "output_type": "stream",
     "text": [
      "/Users/maruyan/.pyenv/versions/3.7.7/lib/python3.7/site-packages/ipykernel_launcher.py:10: RuntimeWarning: overflow encountered in ubyte_scalars\n",
      "  # Remove the CWD from sys.path while we load stuff.\n"
     ]
    },
    {
     "name": "stdout",
     "output_type": "stream",
     "text": [
      "1296\n",
      "41.905092592592595\n",
      "0.16432715178861884\n"
     ]
    },
    {
     "data": {
      "text/plain": [
       "OrderedDict([('ESRGAN_gray_x4_01_v2',\n",
       "              OrderedDict([('test1_gray',\n",
       "                            OrderedDict([('max_ratio', 1.0),\n",
       "                                         ('average_error_ratio_128',\n",
       "                                          0.3385244018875449)])),\n",
       "                           ('test2_gray',\n",
       "                            OrderedDict([('max_ratio', 1.0),\n",
       "                                         ('average_error_ratio_128',\n",
       "                                          0.556861919238395)])),\n",
       "                           ('test3_gray',\n",
       "                            OrderedDict([('max_ratio', 1.0),\n",
       "                                         ('average_error_ratio_128',\n",
       "                                          0.39200571052486116)])),\n",
       "                           ('test4_gray',\n",
       "                            OrderedDict([('max_ratio', 0.9568824451390862),\n",
       "                                         ('average_error_ratio_128',\n",
       "                                          0.2964687981145909)])),\n",
       "                           ('test5_gray',\n",
       "                            OrderedDict([('max_ratio', 1.0),\n",
       "                                         ('average_error_ratio_128',\n",
       "                                          0.5376435894392226)]))])),\n",
       "             ('ESRGAN_gray_x4_02_v2',\n",
       "              OrderedDict([('test1_gray',\n",
       "                            OrderedDict([('max_ratio', 0.011804062734563284),\n",
       "                                         ('average_error_ratio_128',\n",
       "                                          0.5829681885812265)])),\n",
       "                           ('test2_gray',\n",
       "                            OrderedDict([('max_ratio', 0.018197826362752138),\n",
       "                                         ('average_error_ratio_128',\n",
       "                                          0.5582547143299607)])),\n",
       "                           ('test3_gray',\n",
       "                            OrderedDict([('max_ratio', 0.016097099008764194),\n",
       "                                         ('average_error_ratio_128',\n",
       "                                          0.6261690609745101)])),\n",
       "                           ('test4_gray',\n",
       "                            OrderedDict([('max_ratio', 0.012216015913611818),\n",
       "                                         ('average_error_ratio_128',\n",
       "                                          0.5382800562505645)])),\n",
       "                           ('test5_gray',\n",
       "                            OrderedDict([('max_ratio', 0.018109791768517475),\n",
       "                                         ('average_error_ratio_128',\n",
       "                                          0.6120012007971385)]))])),\n",
       "             ('ESRGAN_gray_x4_03_v2',\n",
       "              OrderedDict([('test1_gray',\n",
       "                            OrderedDict([('max_ratio', 0.9803929377526699),\n",
       "                                         ('average_error_ratio_128',\n",
       "                                          0.16432715178861884)]))])),\n",
       "             ('ESRGAN_gray_x4_04_v2', OrderedDict()),\n",
       "             ('lq', OrderedDict())])"
      ]
     },
     "execution_count": 116,
     "metadata": {},
     "output_type": "execute_result"
    }
   ],
   "source": [
    "# model3 test1\n",
    "m3_image_test1 = m3_images[0].crop((400,0,1024,704))\n",
    "m3_test1_max = compute_max_stress_ratio(0, np.array(m3_image_test1).flatten().min())\n",
    "m3_test1_error = compute_average_error_ratio(m3_image_test1, 0, 128)\n",
    "stress_results[results[2]][test_results[0]] = OrderedDict()\n",
    "stress_results[results[2]][test_results[0]][\"max_ratio\"] = m3_test1_max\n",
    "stress_results[results[2]][test_results[0]][\"average_error_ratio_128\"] = m3_test1_error\n",
    "stress_results"
   ]
  },
  {
   "cell_type": "code",
   "execution_count": 117,
   "metadata": {
    "scrolled": true
   },
   "outputs": [
    {
     "name": "stderr",
     "output_type": "stream",
     "text": [
      "/Users/maruyan/.pyenv/versions/3.7.7/lib/python3.7/site-packages/ipykernel_launcher.py:10: RuntimeWarning: overflow encountered in ubyte_scalars\n",
      "  # Remove the CWD from sys.path while we load stuff.\n"
     ]
    },
    {
     "name": "stdout",
     "output_type": "stream",
     "text": [
      "17083\n",
      "138.55476204413745\n",
      "0.5398149465981182\n"
     ]
    },
    {
     "data": {
      "text/plain": [
       "OrderedDict([('ESRGAN_gray_x4_01_v2',\n",
       "              OrderedDict([('test1_gray',\n",
       "                            OrderedDict([('max_ratio', 1.0),\n",
       "                                         ('average_error_ratio_128',\n",
       "                                          0.3385244018875449)])),\n",
       "                           ('test2_gray',\n",
       "                            OrderedDict([('max_ratio', 1.0),\n",
       "                                         ('average_error_ratio_128',\n",
       "                                          0.556861919238395)])),\n",
       "                           ('test3_gray',\n",
       "                            OrderedDict([('max_ratio', 1.0),\n",
       "                                         ('average_error_ratio_128',\n",
       "                                          0.39200571052486116)])),\n",
       "                           ('test4_gray',\n",
       "                            OrderedDict([('max_ratio', 0.9568824451390862),\n",
       "                                         ('average_error_ratio_128',\n",
       "                                          0.2964687981145909)])),\n",
       "                           ('test5_gray',\n",
       "                            OrderedDict([('max_ratio', 1.0),\n",
       "                                         ('average_error_ratio_128',\n",
       "                                          0.5376435894392226)]))])),\n",
       "             ('ESRGAN_gray_x4_02_v2',\n",
       "              OrderedDict([('test1_gray',\n",
       "                            OrderedDict([('max_ratio', 0.011804062734563284),\n",
       "                                         ('average_error_ratio_128',\n",
       "                                          0.5829681885812265)])),\n",
       "                           ('test2_gray',\n",
       "                            OrderedDict([('max_ratio', 0.018197826362752138),\n",
       "                                         ('average_error_ratio_128',\n",
       "                                          0.5582547143299607)])),\n",
       "                           ('test3_gray',\n",
       "                            OrderedDict([('max_ratio', 0.016097099008764194),\n",
       "                                         ('average_error_ratio_128',\n",
       "                                          0.6261690609745101)])),\n",
       "                           ('test4_gray',\n",
       "                            OrderedDict([('max_ratio', 0.012216015913611818),\n",
       "                                         ('average_error_ratio_128',\n",
       "                                          0.5382800562505645)])),\n",
       "                           ('test5_gray',\n",
       "                            OrderedDict([('max_ratio', 0.018109791768517475),\n",
       "                                         ('average_error_ratio_128',\n",
       "                                          0.6120012007971385)]))])),\n",
       "             ('ESRGAN_gray_x4_03_v2',\n",
       "              OrderedDict([('test1_gray',\n",
       "                            OrderedDict([('max_ratio', 0.9803929377526699),\n",
       "                                         ('average_error_ratio_128',\n",
       "                                          0.16432715178861884)])),\n",
       "                           ('test2_gray',\n",
       "                            OrderedDict([('max_ratio', 0.9571435559126599),\n",
       "                                         ('average_error_ratio_128',\n",
       "                                          0.5398149465981182)]))])),\n",
       "             ('ESRGAN_gray_x4_04_v2', OrderedDict()),\n",
       "             ('lq', OrderedDict())])"
      ]
     },
     "execution_count": 117,
     "metadata": {},
     "output_type": "execute_result"
    }
   ],
   "source": [
    "# model3 test2\n",
    "m3_image_test2 = m3_images[1].crop((400,0,1024,704))\n",
    "m3_test2_max = compute_max_stress_ratio(1, np.array(m3_image_test2).flatten().min())\n",
    "m3_test2_error = compute_average_error_ratio(m3_image_test2, 1, 128)\n",
    "stress_results[results[2]][test_results[1]] = OrderedDict()\n",
    "stress_results[results[2]][test_results[1]][\"max_ratio\"] = m3_test2_max\n",
    "stress_results[results[2]][test_results[1]][\"average_error_ratio_128\"] = m3_test2_error\n",
    "stress_results"
   ]
  },
  {
   "cell_type": "code",
   "execution_count": 118,
   "metadata": {
    "scrolled": true
   },
   "outputs": [
    {
     "name": "stderr",
     "output_type": "stream",
     "text": [
      "/Users/maruyan/.pyenv/versions/3.7.7/lib/python3.7/site-packages/ipykernel_launcher.py:10: RuntimeWarning: overflow encountered in ubyte_scalars\n",
      "  # Remove the CWD from sys.path while we load stuff.\n"
     ]
    },
    {
     "name": "stdout",
     "output_type": "stream",
     "text": [
      "57909\n",
      "66.57849384378939\n",
      "0.2609831603049064\n"
     ]
    },
    {
     "data": {
      "text/plain": [
       "OrderedDict([('ESRGAN_gray_x4_01_v2',\n",
       "              OrderedDict([('test1_gray',\n",
       "                            OrderedDict([('max_ratio', 1.0),\n",
       "                                         ('average_error_ratio_128',\n",
       "                                          0.3385244018875449)])),\n",
       "                           ('test2_gray',\n",
       "                            OrderedDict([('max_ratio', 1.0),\n",
       "                                         ('average_error_ratio_128',\n",
       "                                          0.556861919238395)])),\n",
       "                           ('test3_gray',\n",
       "                            OrderedDict([('max_ratio', 1.0),\n",
       "                                         ('average_error_ratio_128',\n",
       "                                          0.39200571052486116)])),\n",
       "                           ('test4_gray',\n",
       "                            OrderedDict([('max_ratio', 0.9568824451390862),\n",
       "                                         ('average_error_ratio_128',\n",
       "                                          0.2964687981145909)])),\n",
       "                           ('test5_gray',\n",
       "                            OrderedDict([('max_ratio', 1.0),\n",
       "                                         ('average_error_ratio_128',\n",
       "                                          0.5376435894392226)]))])),\n",
       "             ('ESRGAN_gray_x4_02_v2',\n",
       "              OrderedDict([('test1_gray',\n",
       "                            OrderedDict([('max_ratio', 0.011804062734563284),\n",
       "                                         ('average_error_ratio_128',\n",
       "                                          0.5829681885812265)])),\n",
       "                           ('test2_gray',\n",
       "                            OrderedDict([('max_ratio', 0.018197826362752138),\n",
       "                                         ('average_error_ratio_128',\n",
       "                                          0.5582547143299607)])),\n",
       "                           ('test3_gray',\n",
       "                            OrderedDict([('max_ratio', 0.016097099008764194),\n",
       "                                         ('average_error_ratio_128',\n",
       "                                          0.6261690609745101)])),\n",
       "                           ('test4_gray',\n",
       "                            OrderedDict([('max_ratio', 0.012216015913611818),\n",
       "                                         ('average_error_ratio_128',\n",
       "                                          0.5382800562505645)])),\n",
       "                           ('test5_gray',\n",
       "                            OrderedDict([('max_ratio', 0.018109791768517475),\n",
       "                                         ('average_error_ratio_128',\n",
       "                                          0.6120012007971385)]))])),\n",
       "             ('ESRGAN_gray_x4_03_v2',\n",
       "              OrderedDict([('test1_gray',\n",
       "                            OrderedDict([('max_ratio', 0.9803929377526699),\n",
       "                                         ('average_error_ratio_128',\n",
       "                                          0.16432715178861884)])),\n",
       "                           ('test2_gray',\n",
       "                            OrderedDict([('max_ratio', 0.9571435559126599),\n",
       "                                         ('average_error_ratio_128',\n",
       "                                          0.5398149465981182)])),\n",
       "                           ('test3_gray',\n",
       "                            OrderedDict([('max_ratio', 1.0),\n",
       "                                         ('average_error_ratio_128',\n",
       "                                          0.2609831603049064)]))])),\n",
       "             ('ESRGAN_gray_x4_04_v2', OrderedDict()),\n",
       "             ('lq', OrderedDict())])"
      ]
     },
     "execution_count": 118,
     "metadata": {},
     "output_type": "execute_result"
    }
   ],
   "source": [
    "# model3 test3\n",
    "m3_image_test3 = m3_images[2].crop((40,100,1384,604))\n",
    "m3_test3_max = compute_max_stress_ratio(2, np.array(m3_image_test3).flatten().min())\n",
    "m3_test3_error = compute_average_error_ratio(m3_image_test3, 2, 128)\n",
    "stress_results[results[2]][test_results[2]] = OrderedDict()\n",
    "stress_results[results[2]][test_results[2]][\"max_ratio\"] = m3_test3_max\n",
    "stress_results[results[2]][test_results[2]][\"average_error_ratio_128\"] = m3_test3_error\n",
    "stress_results"
   ]
  },
  {
   "cell_type": "code",
   "execution_count": 119,
   "metadata": {
    "scrolled": true
   },
   "outputs": [
    {
     "name": "stderr",
     "output_type": "stream",
     "text": [
      "/Users/maruyan/.pyenv/versions/3.7.7/lib/python3.7/site-packages/ipykernel_launcher.py:10: RuntimeWarning: overflow encountered in ubyte_scalars\n",
      "  # Remove the CWD from sys.path while we load stuff.\n"
     ]
    },
    {
     "name": "stdout",
     "output_type": "stream",
     "text": [
      "2752\n",
      "52.805595930232556\n",
      "0.2069861981350043\n"
     ]
    },
    {
     "data": {
      "text/plain": [
       "OrderedDict([('ESRGAN_gray_x4_01_v2',\n",
       "              OrderedDict([('test1_gray',\n",
       "                            OrderedDict([('max_ratio', 1.0),\n",
       "                                         ('average_error_ratio_128',\n",
       "                                          0.3385244018875449)])),\n",
       "                           ('test2_gray',\n",
       "                            OrderedDict([('max_ratio', 1.0),\n",
       "                                         ('average_error_ratio_128',\n",
       "                                          0.556861919238395)])),\n",
       "                           ('test3_gray',\n",
       "                            OrderedDict([('max_ratio', 1.0),\n",
       "                                         ('average_error_ratio_128',\n",
       "                                          0.39200571052486116)])),\n",
       "                           ('test4_gray',\n",
       "                            OrderedDict([('max_ratio', 0.9568824451390862),\n",
       "                                         ('average_error_ratio_128',\n",
       "                                          0.2964687981145909)])),\n",
       "                           ('test5_gray',\n",
       "                            OrderedDict([('max_ratio', 1.0),\n",
       "                                         ('average_error_ratio_128',\n",
       "                                          0.5376435894392226)]))])),\n",
       "             ('ESRGAN_gray_x4_02_v2',\n",
       "              OrderedDict([('test1_gray',\n",
       "                            OrderedDict([('max_ratio', 0.011804062734563284),\n",
       "                                         ('average_error_ratio_128',\n",
       "                                          0.5829681885812265)])),\n",
       "                           ('test2_gray',\n",
       "                            OrderedDict([('max_ratio', 0.018197826362752138),\n",
       "                                         ('average_error_ratio_128',\n",
       "                                          0.5582547143299607)])),\n",
       "                           ('test3_gray',\n",
       "                            OrderedDict([('max_ratio', 0.016097099008764194),\n",
       "                                         ('average_error_ratio_128',\n",
       "                                          0.6261690609745101)])),\n",
       "                           ('test4_gray',\n",
       "                            OrderedDict([('max_ratio', 0.012216015913611818),\n",
       "                                         ('average_error_ratio_128',\n",
       "                                          0.5382800562505645)])),\n",
       "                           ('test5_gray',\n",
       "                            OrderedDict([('max_ratio', 0.018109791768517475),\n",
       "                                         ('average_error_ratio_128',\n",
       "                                          0.6120012007971385)]))])),\n",
       "             ('ESRGAN_gray_x4_03_v2',\n",
       "              OrderedDict([('test1_gray',\n",
       "                            OrderedDict([('max_ratio', 0.9803929377526699),\n",
       "                                         ('average_error_ratio_128',\n",
       "                                          0.16432715178861884)])),\n",
       "                           ('test2_gray',\n",
       "                            OrderedDict([('max_ratio', 0.9571435559126599),\n",
       "                                         ('average_error_ratio_128',\n",
       "                                          0.5398149465981182)])),\n",
       "                           ('test3_gray',\n",
       "                            OrderedDict([('max_ratio', 1.0),\n",
       "                                         ('average_error_ratio_128',\n",
       "                                          0.2609831603049064)])),\n",
       "                           ('test4_gray',\n",
       "                            OrderedDict([('max_ratio', 0.9882406668561144),\n",
       "                                         ('average_error_ratio_128',\n",
       "                                          0.2069861981350043)]))])),\n",
       "             ('ESRGAN_gray_x4_04_v2', OrderedDict()),\n",
       "             ('lq', OrderedDict())])"
      ]
     },
     "execution_count": 119,
     "metadata": {},
     "output_type": "execute_result"
    }
   ],
   "source": [
    "# model3 test4\n",
    "m3_image_test4 = m3_images[3].crop((300,0,1124,704))\n",
    "m3_test4_max = compute_max_stress_ratio(3, np.array(m3_image_test4).flatten().min())\n",
    "m3_test4_error = compute_average_error_ratio(m3_image_test4, 3, 128)\n",
    "stress_results[results[2]][test_results[3]] = OrderedDict()\n",
    "stress_results[results[2]][test_results[3]][\"max_ratio\"] = m3_test4_max\n",
    "stress_results[results[2]][test_results[3]][\"average_error_ratio_128\"] = m3_test4_error\n",
    "stress_results"
   ]
  },
  {
   "cell_type": "code",
   "execution_count": 120,
   "metadata": {
    "scrolled": true
   },
   "outputs": [
    {
     "name": "stderr",
     "output_type": "stream",
     "text": [
      "/Users/maruyan/.pyenv/versions/3.7.7/lib/python3.7/site-packages/ipykernel_launcher.py:10: RuntimeWarning: overflow encountered in ubyte_scalars\n",
      "  # Remove the CWD from sys.path while we load stuff.\n"
     ]
    },
    {
     "name": "stdout",
     "output_type": "stream",
     "text": [
      "20891\n",
      "130.9369584988751\n",
      "0.5101814184351486\n"
     ]
    },
    {
     "data": {
      "text/plain": [
       "OrderedDict([('ESRGAN_gray_x4_01_v2',\n",
       "              OrderedDict([('test1_gray',\n",
       "                            OrderedDict([('max_ratio', 1.0),\n",
       "                                         ('average_error_ratio_128',\n",
       "                                          0.3385244018875449)])),\n",
       "                           ('test2_gray',\n",
       "                            OrderedDict([('max_ratio', 1.0),\n",
       "                                         ('average_error_ratio_128',\n",
       "                                          0.556861919238395)])),\n",
       "                           ('test3_gray',\n",
       "                            OrderedDict([('max_ratio', 1.0),\n",
       "                                         ('average_error_ratio_128',\n",
       "                                          0.39200571052486116)])),\n",
       "                           ('test4_gray',\n",
       "                            OrderedDict([('max_ratio', 0.9568824451390862),\n",
       "                                         ('average_error_ratio_128',\n",
       "                                          0.2964687981145909)])),\n",
       "                           ('test5_gray',\n",
       "                            OrderedDict([('max_ratio', 1.0),\n",
       "                                         ('average_error_ratio_128',\n",
       "                                          0.5376435894392226)]))])),\n",
       "             ('ESRGAN_gray_x4_02_v2',\n",
       "              OrderedDict([('test1_gray',\n",
       "                            OrderedDict([('max_ratio', 0.011804062734563284),\n",
       "                                         ('average_error_ratio_128',\n",
       "                                          0.5829681885812265)])),\n",
       "                           ('test2_gray',\n",
       "                            OrderedDict([('max_ratio', 0.018197826362752138),\n",
       "                                         ('average_error_ratio_128',\n",
       "                                          0.5582547143299607)])),\n",
       "                           ('test3_gray',\n",
       "                            OrderedDict([('max_ratio', 0.016097099008764194),\n",
       "                                         ('average_error_ratio_128',\n",
       "                                          0.6261690609745101)])),\n",
       "                           ('test4_gray',\n",
       "                            OrderedDict([('max_ratio', 0.012216015913611818),\n",
       "                                         ('average_error_ratio_128',\n",
       "                                          0.5382800562505645)])),\n",
       "                           ('test5_gray',\n",
       "                            OrderedDict([('max_ratio', 0.018109791768517475),\n",
       "                                         ('average_error_ratio_128',\n",
       "                                          0.6120012007971385)]))])),\n",
       "             ('ESRGAN_gray_x4_03_v2',\n",
       "              OrderedDict([('test1_gray',\n",
       "                            OrderedDict([('max_ratio', 0.9803929377526699),\n",
       "                                         ('average_error_ratio_128',\n",
       "                                          0.16432715178861884)])),\n",
       "                           ('test2_gray',\n",
       "                            OrderedDict([('max_ratio', 0.9571435559126599),\n",
       "                                         ('average_error_ratio_128',\n",
       "                                          0.5398149465981182)])),\n",
       "                           ('test3_gray',\n",
       "                            OrderedDict([('max_ratio', 1.0),\n",
       "                                         ('average_error_ratio_128',\n",
       "                                          0.2609831603049064)])),\n",
       "                           ('test4_gray',\n",
       "                            OrderedDict([('max_ratio', 0.9882406668561144),\n",
       "                                         ('average_error_ratio_128',\n",
       "                                          0.2069861981350043)])),\n",
       "                           ('test5_gray',\n",
       "                            OrderedDict([('max_ratio', 1.0),\n",
       "                                         ('average_error_ratio_128',\n",
       "                                          0.5101814184351486)]))])),\n",
       "             ('ESRGAN_gray_x4_04_v2', OrderedDict()),\n",
       "             ('lq', OrderedDict())])"
      ]
     },
     "execution_count": 120,
     "metadata": {},
     "output_type": "execute_result"
    }
   ],
   "source": [
    "# model3 test5\n",
    "m3_image_test5 = m3_images[4].crop((300,0,1124,704))\n",
    "m3_test5_max = compute_max_stress_ratio(4, np.array(m3_image_test5).flatten().min())\n",
    "m3_test5_error = compute_average_error_ratio(m3_image_test5, 4, 128)\n",
    "stress_results[results[2]][test_results[4]] = OrderedDict()\n",
    "stress_results[results[2]][test_results[4]][\"max_ratio\"] = m3_test5_max\n",
    "stress_results[results[2]][test_results[4]][\"average_error_ratio_128\"] = m3_test5_error\n",
    "stress_results"
   ]
  },
  {
   "cell_type": "code",
   "execution_count": 121,
   "metadata": {
    "scrolled": true
   },
   "outputs": [
    {
     "data": {
      "image/png": "[encoded data removed]",
      "text/plain": [
       "<PIL.Image.Image image mode=L size=1424x704 at 0x1133E2FD0>"
      ]
     },
     "execution_count": 121,
     "metadata": {},
     "output_type": "execute_result"
    }
   ],
   "source": [
    "#model4\n",
    "m4_images = get_test_images(3)\n",
    "m4_images[0]"
   ]
  },
  {
   "cell_type": "code",
   "execution_count": 122,
   "metadata": {
    "scrolled": true
   },
   "outputs": [
    {
     "name": "stderr",
     "output_type": "stream",
     "text": [
      "/Users/maruyan/.pyenv/versions/3.7.7/lib/python3.7/site-packages/ipykernel_launcher.py:10: RuntimeWarning: overflow encountered in ubyte_scalars\n",
      "  # Remove the CWD from sys.path while we load stuff.\n"
     ]
    },
    {
     "name": "stdout",
     "output_type": "stream",
     "text": [
      "1296\n",
      "90.1604938271605\n",
      "0.3535564829438313\n"
     ]
    },
    {
     "data": {
      "text/plain": [
       "OrderedDict([('ESRGAN_gray_x4_01_v2',\n",
       "              OrderedDict([('test1_gray',\n",
       "                            OrderedDict([('max_ratio', 1.0),\n",
       "                                         ('average_error_ratio_128',\n",
       "                                          0.3385244018875449)])),\n",
       "                           ('test2_gray',\n",
       "                            OrderedDict([('max_ratio', 1.0),\n",
       "                                         ('average_error_ratio_128',\n",
       "                                          0.556861919238395)])),\n",
       "                           ('test3_gray',\n",
       "                            OrderedDict([('max_ratio', 1.0),\n",
       "                                         ('average_error_ratio_128',\n",
       "                                          0.39200571052486116)])),\n",
       "                           ('test4_gray',\n",
       "                            OrderedDict([('max_ratio', 0.9568824451390862),\n",
       "                                         ('average_error_ratio_128',\n",
       "                                          0.2964687981145909)])),\n",
       "                           ('test5_gray',\n",
       "                            OrderedDict([('max_ratio', 1.0),\n",
       "                                         ('average_error_ratio_128',\n",
       "                                          0.5376435894392226)]))])),\n",
       "             ('ESRGAN_gray_x4_02_v2',\n",
       "              OrderedDict([('test1_gray',\n",
       "                            OrderedDict([('max_ratio', 0.011804062734563284),\n",
       "                                         ('average_error_ratio_128',\n",
       "                                          0.5829681885812265)])),\n",
       "                           ('test2_gray',\n",
       "                            OrderedDict([('max_ratio', 0.018197826362752138),\n",
       "                                         ('average_error_ratio_128',\n",
       "                                          0.5582547143299607)])),\n",
       "                           ('test3_gray',\n",
       "                            OrderedDict([('max_ratio', 0.016097099008764194),\n",
       "                                         ('average_error_ratio_128',\n",
       "                                          0.6261690609745101)])),\n",
       "                           ('test4_gray',\n",
       "                            OrderedDict([('max_ratio', 0.012216015913611818),\n",
       "                                         ('average_error_ratio_128',\n",
       "                                          0.5382800562505645)])),\n",
       "                           ('test5_gray',\n",
       "                            OrderedDict([('max_ratio', 0.018109791768517475),\n",
       "                                         ('average_error_ratio_128',\n",
       "                                          0.6120012007971385)]))])),\n",
       "             ('ESRGAN_gray_x4_03_v2',\n",
       "              OrderedDict([('test1_gray',\n",
       "                            OrderedDict([('max_ratio', 0.9803929377526699),\n",
       "                                         ('average_error_ratio_128',\n",
       "                                          0.16432715178861884)])),\n",
       "                           ('test2_gray',\n",
       "                            OrderedDict([('max_ratio', 0.9571435559126599),\n",
       "                                         ('average_error_ratio_128',\n",
       "                                          0.5398149465981182)])),\n",
       "                           ('test3_gray',\n",
       "                            OrderedDict([('max_ratio', 1.0),\n",
       "                                         ('average_error_ratio_128',\n",
       "                                          0.2609831603049064)])),\n",
       "                           ('test4_gray',\n",
       "                            OrderedDict([('max_ratio', 0.9882406668561144),\n",
       "                                         ('average_error_ratio_128',\n",
       "                                          0.2069861981350043)])),\n",
       "                           ('test5_gray',\n",
       "                            OrderedDict([('max_ratio', 1.0),\n",
       "                                         ('average_error_ratio_128',\n",
       "                                          0.5101814184351486)]))])),\n",
       "             ('ESRGAN_gray_x4_04_v2',\n",
       "              OrderedDict([('test1_gray',\n",
       "                            OrderedDict([('max_ratio', 0.9176503385612136),\n",
       "                                         ('average_error_ratio_128',\n",
       "                                          0.3535564829438313)]))])),\n",
       "             ('lq', OrderedDict())])"
      ]
     },
     "execution_count": 122,
     "metadata": {},
     "output_type": "execute_result"
    }
   ],
   "source": [
    "# model4 test1\n",
    "m4_image_test1 = m4_images[0].crop((400,0,1024,704))\n",
    "m4_test1_max = compute_max_stress_ratio(0, np.array(m4_image_test1).flatten().min())\n",
    "m4_test1_error = compute_average_error_ratio(m4_image_test1, 0, 128)\n",
    "stress_results[results[3]][test_results[0]] = OrderedDict()\n",
    "stress_results[results[3]][test_results[0]][\"max_ratio\"] = m4_test1_max\n",
    "stress_results[results[3]][test_results[0]][\"average_error_ratio_128\"] = m4_test1_error\n",
    "stress_results"
   ]
  },
  {
   "cell_type": "code",
   "execution_count": 123,
   "metadata": {
    "scrolled": true
   },
   "outputs": [
    {
     "name": "stderr",
     "output_type": "stream",
     "text": [
      "/Users/maruyan/.pyenv/versions/3.7.7/lib/python3.7/site-packages/ipykernel_launcher.py:10: RuntimeWarning: overflow encountered in ubyte_scalars\n",
      "  # Remove the CWD from sys.path while we load stuff.\n"
     ]
    },
    {
     "name": "stdout",
     "output_type": "stream",
     "text": [
      "17083\n",
      "76.98343382309899\n",
      "0.2999305661173723\n"
     ]
    },
    {
     "data": {
      "text/plain": [
       "OrderedDict([('ESRGAN_gray_x4_01_v2',\n",
       "              OrderedDict([('test1_gray',\n",
       "                            OrderedDict([('max_ratio', 1.0),\n",
       "                                         ('average_error_ratio_128',\n",
       "                                          0.3385244018875449)])),\n",
       "                           ('test2_gray',\n",
       "                            OrderedDict([('max_ratio', 1.0),\n",
       "                                         ('average_error_ratio_128',\n",
       "                                          0.556861919238395)])),\n",
       "                           ('test3_gray',\n",
       "                            OrderedDict([('max_ratio', 1.0),\n",
       "                                         ('average_error_ratio_128',\n",
       "                                          0.39200571052486116)])),\n",
       "                           ('test4_gray',\n",
       "                            OrderedDict([('max_ratio', 0.9568824451390862),\n",
       "                                         ('average_error_ratio_128',\n",
       "                                          0.2964687981145909)])),\n",
       "                           ('test5_gray',\n",
       "                            OrderedDict([('max_ratio', 1.0),\n",
       "                                         ('average_error_ratio_128',\n",
       "                                          0.5376435894392226)]))])),\n",
       "             ('ESRGAN_gray_x4_02_v2',\n",
       "              OrderedDict([('test1_gray',\n",
       "                            OrderedDict([('max_ratio', 0.011804062734563284),\n",
       "                                         ('average_error_ratio_128',\n",
       "                                          0.5829681885812265)])),\n",
       "                           ('test2_gray',\n",
       "                            OrderedDict([('max_ratio', 0.018197826362752138),\n",
       "                                         ('average_error_ratio_128',\n",
       "                                          0.5582547143299607)])),\n",
       "                           ('test3_gray',\n",
       "                            OrderedDict([('max_ratio', 0.016097099008764194),\n",
       "                                         ('average_error_ratio_128',\n",
       "                                          0.6261690609745101)])),\n",
       "                           ('test4_gray',\n",
       "                            OrderedDict([('max_ratio', 0.012216015913611818),\n",
       "                                         ('average_error_ratio_128',\n",
       "                                          0.5382800562505645)])),\n",
       "                           ('test5_gray',\n",
       "                            OrderedDict([('max_ratio', 0.018109791768517475),\n",
       "                                         ('average_error_ratio_128',\n",
       "                                          0.6120012007971385)]))])),\n",
       "             ('ESRGAN_gray_x4_03_v2',\n",
       "              OrderedDict([('test1_gray',\n",
       "                            OrderedDict([('max_ratio', 0.9803929377526699),\n",
       "                                         ('average_error_ratio_128',\n",
       "                                          0.16432715178861884)])),\n",
       "                           ('test2_gray',\n",
       "                            OrderedDict([('max_ratio', 0.9571435559126599),\n",
       "                                         ('average_error_ratio_128',\n",
       "                                          0.5398149465981182)])),\n",
       "                           ('test3_gray',\n",
       "                            OrderedDict([('max_ratio', 1.0),\n",
       "                                         ('average_error_ratio_128',\n",
       "                                          0.2609831603049064)])),\n",
       "                           ('test4_gray',\n",
       "                            OrderedDict([('max_ratio', 0.9882406668561144),\n",
       "                                         ('average_error_ratio_128',\n",
       "                                          0.2069861981350043)])),\n",
       "                           ('test5_gray',\n",
       "                            OrderedDict([('max_ratio', 1.0),\n",
       "                                         ('average_error_ratio_128',\n",
       "                                          0.5101814184351486)]))])),\n",
       "             ('ESRGAN_gray_x4_04_v2',\n",
       "              OrderedDict([('test1_gray',\n",
       "                            OrderedDict([('max_ratio', 0.9176503385612136),\n",
       "                                         ('average_error_ratio_128',\n",
       "                                          0.3535564829438313)])),\n",
       "                           ('test2_gray',\n",
       "                            OrderedDict([('max_ratio', 0.8948069099674377),\n",
       "                                         ('average_error_ratio_128',\n",
       "                                          0.2999305661173723)]))])),\n",
       "             ('lq', OrderedDict())])"
      ]
     },
     "execution_count": 123,
     "metadata": {},
     "output_type": "execute_result"
    }
   ],
   "source": [
    "# model4 test2\n",
    "m4_image_test2 = m4_images[1].crop((400,0,1024,704))\n",
    "m4_test2_max = compute_max_stress_ratio(1, np.array(m4_image_test2).flatten().min())\n",
    "m4_test2_error = compute_average_error_ratio(m4_image_test2, 1, 128)\n",
    "stress_results[results[3]][test_results[1]] = OrderedDict()\n",
    "stress_results[results[3]][test_results[1]][\"max_ratio\"] = m4_test2_max\n",
    "stress_results[results[3]][test_results[1]][\"average_error_ratio_128\"] = m4_test2_error\n",
    "stress_results"
   ]
  },
  {
   "cell_type": "code",
   "execution_count": 124,
   "metadata": {
    "scrolled": true
   },
   "outputs": [
    {
     "name": "stderr",
     "output_type": "stream",
     "text": [
      "/Users/maruyan/.pyenv/versions/3.7.7/lib/python3.7/site-packages/ipykernel_launcher.py:10: RuntimeWarning: overflow encountered in ubyte_scalars\n",
      "  # Remove the CWD from sys.path while we load stuff.\n"
     ]
    },
    {
     "name": "stdout",
     "output_type": "stream",
     "text": [
      "57909\n",
      "25.127665820511492\n",
      "0.09849873823083496\n"
     ]
    },
    {
     "data": {
      "text/plain": [
       "OrderedDict([('ESRGAN_gray_x4_01_v2',\n",
       "              OrderedDict([('test1_gray',\n",
       "                            OrderedDict([('max_ratio', 1.0),\n",
       "                                         ('average_error_ratio_128',\n",
       "                                          0.3385244018875449)])),\n",
       "                           ('test2_gray',\n",
       "                            OrderedDict([('max_ratio', 1.0),\n",
       "                                         ('average_error_ratio_128',\n",
       "                                          0.556861919238395)])),\n",
       "                           ('test3_gray',\n",
       "                            OrderedDict([('max_ratio', 1.0),\n",
       "                                         ('average_error_ratio_128',\n",
       "                                          0.39200571052486116)])),\n",
       "                           ('test4_gray',\n",
       "                            OrderedDict([('max_ratio', 0.9568824451390862),\n",
       "                                         ('average_error_ratio_128',\n",
       "                                          0.2964687981145909)])),\n",
       "                           ('test5_gray',\n",
       "                            OrderedDict([('max_ratio', 1.0),\n",
       "                                         ('average_error_ratio_128',\n",
       "                                          0.5376435894392226)]))])),\n",
       "             ('ESRGAN_gray_x4_02_v2',\n",
       "              OrderedDict([('test1_gray',\n",
       "                            OrderedDict([('max_ratio', 0.011804062734563284),\n",
       "                                         ('average_error_ratio_128',\n",
       "                                          0.5829681885812265)])),\n",
       "                           ('test2_gray',\n",
       "                            OrderedDict([('max_ratio', 0.018197826362752138),\n",
       "                                         ('average_error_ratio_128',\n",
       "                                          0.5582547143299607)])),\n",
       "                           ('test3_gray',\n",
       "                            OrderedDict([('max_ratio', 0.016097099008764194),\n",
       "                                         ('average_error_ratio_128',\n",
       "                                          0.6261690609745101)])),\n",
       "                           ('test4_gray',\n",
       "                            OrderedDict([('max_ratio', 0.012216015913611818),\n",
       "                                         ('average_error_ratio_128',\n",
       "                                          0.5382800562505645)])),\n",
       "                           ('test5_gray',\n",
       "                            OrderedDict([('max_ratio', 0.018109791768517475),\n",
       "                                         ('average_error_ratio_128',\n",
       "                                          0.6120012007971385)]))])),\n",
       "             ('ESRGAN_gray_x4_03_v2',\n",
       "              OrderedDict([('test1_gray',\n",
       "                            OrderedDict([('max_ratio', 0.9803929377526699),\n",
       "                                         ('average_error_ratio_128',\n",
       "                                          0.16432715178861884)])),\n",
       "                           ('test2_gray',\n",
       "                            OrderedDict([('max_ratio', 0.9571435559126599),\n",
       "                                         ('average_error_ratio_128',\n",
       "                                          0.5398149465981182)])),\n",
       "                           ('test3_gray',\n",
       "                            OrderedDict([('max_ratio', 1.0),\n",
       "                                         ('average_error_ratio_128',\n",
       "                                          0.2609831603049064)])),\n",
       "                           ('test4_gray',\n",
       "                            OrderedDict([('max_ratio', 0.9882406668561144),\n",
       "                                         ('average_error_ratio_128',\n",
       "                                          0.2069861981350043)])),\n",
       "                           ('test5_gray',\n",
       "                            OrderedDict([('max_ratio', 1.0),\n",
       "                                         ('average_error_ratio_128',\n",
       "                                          0.5101814184351486)]))])),\n",
       "             ('ESRGAN_gray_x4_04_v2',\n",
       "              OrderedDict([('test1_gray',\n",
       "                            OrderedDict([('max_ratio', 0.9176503385612136),\n",
       "                                         ('average_error_ratio_128',\n",
       "                                          0.3535564829438313)])),\n",
       "                           ('test2_gray',\n",
       "                            OrderedDict([('max_ratio', 0.8948069099674377),\n",
       "                                         ('average_error_ratio_128',\n",
       "                                          0.2999305661173723)])),\n",
       "                           ('test3_gray',\n",
       "                            OrderedDict([('max_ratio', 1.0),\n",
       "                                         ('average_error_ratio_128',\n",
       "                                          0.09849873823083496)]))])),\n",
       "             ('lq', OrderedDict())])"
      ]
     },
     "execution_count": 124,
     "metadata": {},
     "output_type": "execute_result"
    }
   ],
   "source": [
    "# model4 test3\n",
    "m4_image_test3 = m4_images[2].crop((40,100,1384,604))\n",
    "m4_test3_max = compute_max_stress_ratio(2, np.array(m4_image_test3).flatten().min())\n",
    "m4_test3_error = compute_average_error_ratio(m4_image_test3, 2, 128)\n",
    "stress_results[results[3]][test_results[2]] = OrderedDict()\n",
    "stress_results[results[3]][test_results[2]][\"max_ratio\"] = m4_test3_max\n",
    "stress_results[results[3]][test_results[2]][\"average_error_ratio_128\"] = m4_test3_error\n",
    "stress_results"
   ]
  },
  {
   "cell_type": "code",
   "execution_count": 125,
   "metadata": {
    "scrolled": true
   },
   "outputs": [
    {
     "name": "stderr",
     "output_type": "stream",
     "text": [
      "/Users/maruyan/.pyenv/versions/3.7.7/lib/python3.7/site-packages/ipykernel_launcher.py:10: RuntimeWarning: overflow encountered in ubyte_scalars\n",
      "  # Remove the CWD from sys.path while we load stuff.\n"
     ]
    },
    {
     "name": "stdout",
     "output_type": "stream",
     "text": [
      "2752\n",
      "43.432412790697676\n",
      "0.17024540374952363\n"
     ]
    },
    {
     "data": {
      "text/plain": [
       "OrderedDict([('ESRGAN_gray_x4_01_v2',\n",
       "              OrderedDict([('test1_gray',\n",
       "                            OrderedDict([('max_ratio', 1.0),\n",
       "                                         ('average_error_ratio_128',\n",
       "                                          0.3385244018875449)])),\n",
       "                           ('test2_gray',\n",
       "                            OrderedDict([('max_ratio', 1.0),\n",
       "                                         ('average_error_ratio_128',\n",
       "                                          0.556861919238395)])),\n",
       "                           ('test3_gray',\n",
       "                            OrderedDict([('max_ratio', 1.0),\n",
       "                                         ('average_error_ratio_128',\n",
       "                                          0.39200571052486116)])),\n",
       "                           ('test4_gray',\n",
       "                            OrderedDict([('max_ratio', 0.9568824451390862),\n",
       "                                         ('average_error_ratio_128',\n",
       "                                          0.2964687981145909)])),\n",
       "                           ('test5_gray',\n",
       "                            OrderedDict([('max_ratio', 1.0),\n",
       "                                         ('average_error_ratio_128',\n",
       "                                          0.5376435894392226)]))])),\n",
       "             ('ESRGAN_gray_x4_02_v2',\n",
       "              OrderedDict([('test1_gray',\n",
       "                            OrderedDict([('max_ratio', 0.011804062734563284),\n",
       "                                         ('average_error_ratio_128',\n",
       "                                          0.5829681885812265)])),\n",
       "                           ('test2_gray',\n",
       "                            OrderedDict([('max_ratio', 0.018197826362752138),\n",
       "                                         ('average_error_ratio_128',\n",
       "                                          0.5582547143299607)])),\n",
       "                           ('test3_gray',\n",
       "                            OrderedDict([('max_ratio', 0.016097099008764194),\n",
       "                                         ('average_error_ratio_128',\n",
       "                                          0.6261690609745101)])),\n",
       "                           ('test4_gray',\n",
       "                            OrderedDict([('max_ratio', 0.012216015913611818),\n",
       "                                         ('average_error_ratio_128',\n",
       "                                          0.5382800562505645)])),\n",
       "                           ('test5_gray',\n",
       "                            OrderedDict([('max_ratio', 0.018109791768517475),\n",
       "                                         ('average_error_ratio_128',\n",
       "                                          0.6120012007971385)]))])),\n",
       "             ('ESRGAN_gray_x4_03_v2',\n",
       "              OrderedDict([('test1_gray',\n",
       "                            OrderedDict([('max_ratio', 0.9803929377526699),\n",
       "                                         ('average_error_ratio_128',\n",
       "                                          0.16432715178861884)])),\n",
       "                           ('test2_gray',\n",
       "                            OrderedDict([('max_ratio', 0.9571435559126599),\n",
       "                                         ('average_error_ratio_128',\n",
       "                                          0.5398149465981182)])),\n",
       "                           ('test3_gray',\n",
       "                            OrderedDict([('max_ratio', 1.0),\n",
       "                                         ('average_error_ratio_128',\n",
       "                                          0.2609831603049064)])),\n",
       "                           ('test4_gray',\n",
       "                            OrderedDict([('max_ratio', 0.9882406668561144),\n",
       "                                         ('average_error_ratio_128',\n",
       "                                          0.2069861981350043)])),\n",
       "                           ('test5_gray',\n",
       "                            OrderedDict([('max_ratio', 1.0),\n",
       "                                         ('average_error_ratio_128',\n",
       "                                          0.5101814184351486)]))])),\n",
       "             ('ESRGAN_gray_x4_04_v2',\n",
       "              OrderedDict([('test1_gray',\n",
       "                            OrderedDict([('max_ratio', 0.9176503385612136),\n",
       "                                         ('average_error_ratio_128',\n",
       "                                          0.3535564829438313)])),\n",
       "                           ('test2_gray',\n",
       "                            OrderedDict([('max_ratio', 0.8948069099674377),\n",
       "                                         ('average_error_ratio_128',\n",
       "                                          0.2999305661173723)])),\n",
       "                           ('test3_gray',\n",
       "                            OrderedDict([('max_ratio', 1.0),\n",
       "                                         ('average_error_ratio_128',\n",
       "                                          0.09849873823083496)])),\n",
       "                           ('test4_gray',\n",
       "                            OrderedDict([('max_ratio', 1.0),\n",
       "                                         ('average_error_ratio_128',\n",
       "                                          0.17024540374952363)]))])),\n",
       "             ('lq', OrderedDict())])"
      ]
     },
     "execution_count": 125,
     "metadata": {},
     "output_type": "execute_result"
    }
   ],
   "source": [
    "# model4 test4\n",
    "m4_image_test4 = m4_images[3].crop((300,0,1124,704))\n",
    "m4_test4_max = compute_max_stress_ratio(3, np.array(m4_image_test4).flatten().min())\n",
    "m4_test4_error = compute_average_error_ratio(m4_image_test4, 3, 128)\n",
    "stress_results[results[3]][test_results[3]] = OrderedDict()\n",
    "stress_results[results[3]][test_results[3]][\"max_ratio\"] = m4_test4_max\n",
    "stress_results[results[3]][test_results[3]][\"average_error_ratio_128\"] = m4_test4_error\n",
    "stress_results"
   ]
  },
  {
   "cell_type": "code",
   "execution_count": 126,
   "metadata": {
    "scrolled": true
   },
   "outputs": [
    {
     "name": "stderr",
     "output_type": "stream",
     "text": [
      "/Users/maruyan/.pyenv/versions/3.7.7/lib/python3.7/site-packages/ipykernel_launcher.py:10: RuntimeWarning: overflow encountered in ubyte_scalars\n",
      "  # Remove the CWD from sys.path while we load stuff.\n"
     ]
    },
    {
     "name": "stdout",
     "output_type": "stream",
     "text": [
      "20891\n",
      "72.86984826001627\n",
      "0.28392932730882503\n"
     ]
    },
    {
     "data": {
      "text/plain": [
       "OrderedDict([('ESRGAN_gray_x4_01_v2',\n",
       "              OrderedDict([('test1_gray',\n",
       "                            OrderedDict([('max_ratio', 1.0),\n",
       "                                         ('average_error_ratio_128',\n",
       "                                          0.3385244018875449)])),\n",
       "                           ('test2_gray',\n",
       "                            OrderedDict([('max_ratio', 1.0),\n",
       "                                         ('average_error_ratio_128',\n",
       "                                          0.556861919238395)])),\n",
       "                           ('test3_gray',\n",
       "                            OrderedDict([('max_ratio', 1.0),\n",
       "                                         ('average_error_ratio_128',\n",
       "                                          0.39200571052486116)])),\n",
       "                           ('test4_gray',\n",
       "                            OrderedDict([('max_ratio', 0.9568824451390862),\n",
       "                                         ('average_error_ratio_128',\n",
       "                                          0.2964687981145909)])),\n",
       "                           ('test5_gray',\n",
       "                            OrderedDict([('max_ratio', 1.0),\n",
       "                                         ('average_error_ratio_128',\n",
       "                                          0.5376435894392226)]))])),\n",
       "             ('ESRGAN_gray_x4_02_v2',\n",
       "              OrderedDict([('test1_gray',\n",
       "                            OrderedDict([('max_ratio', 0.011804062734563284),\n",
       "                                         ('average_error_ratio_128',\n",
       "                                          0.5829681885812265)])),\n",
       "                           ('test2_gray',\n",
       "                            OrderedDict([('max_ratio', 0.018197826362752138),\n",
       "                                         ('average_error_ratio_128',\n",
       "                                          0.5582547143299607)])),\n",
       "                           ('test3_gray',\n",
       "                            OrderedDict([('max_ratio', 0.016097099008764194),\n",
       "                                         ('average_error_ratio_128',\n",
       "                                          0.6261690609745101)])),\n",
       "                           ('test4_gray',\n",
       "                            OrderedDict([('max_ratio', 0.012216015913611818),\n",
       "                                         ('average_error_ratio_128',\n",
       "                                          0.5382800562505645)])),\n",
       "                           ('test5_gray',\n",
       "                            OrderedDict([('max_ratio', 0.018109791768517475),\n",
       "                                         ('average_error_ratio_128',\n",
       "                                          0.6120012007971385)]))])),\n",
       "             ('ESRGAN_gray_x4_03_v2',\n",
       "              OrderedDict([('test1_gray',\n",
       "                            OrderedDict([('max_ratio', 0.9803929377526699),\n",
       "                                         ('average_error_ratio_128',\n",
       "                                          0.16432715178861884)])),\n",
       "                           ('test2_gray',\n",
       "                            OrderedDict([('max_ratio', 0.9571435559126599),\n",
       "                                         ('average_error_ratio_128',\n",
       "                                          0.5398149465981182)])),\n",
       "                           ('test3_gray',\n",
       "                            OrderedDict([('max_ratio', 1.0),\n",
       "                                         ('average_error_ratio_128',\n",
       "                                          0.2609831603049064)])),\n",
       "                           ('test4_gray',\n",
       "                            OrderedDict([('max_ratio', 0.9882406668561144),\n",
       "                                         ('average_error_ratio_128',\n",
       "                                          0.2069861981350043)])),\n",
       "                           ('test5_gray',\n",
       "                            OrderedDict([('max_ratio', 1.0),\n",
       "                                         ('average_error_ratio_128',\n",
       "                                          0.5101814184351486)]))])),\n",
       "             ('ESRGAN_gray_x4_04_v2',\n",
       "              OrderedDict([('test1_gray',\n",
       "                            OrderedDict([('max_ratio', 0.9176503385612136),\n",
       "                                         ('average_error_ratio_128',\n",
       "                                          0.3535564829438313)])),\n",
       "                           ('test2_gray',\n",
       "                            OrderedDict([('max_ratio', 0.8948069099674377),\n",
       "                                         ('average_error_ratio_128',\n",
       "                                          0.2999305661173723)])),\n",
       "                           ('test3_gray',\n",
       "                            OrderedDict([('max_ratio', 1.0),\n",
       "                                         ('average_error_ratio_128',\n",
       "                                          0.09849873823083496)])),\n",
       "                           ('test4_gray',\n",
       "                            OrderedDict([('max_ratio', 1.0),\n",
       "                                         ('average_error_ratio_128',\n",
       "                                          0.17024540374952363)])),\n",
       "                           ('test5_gray',\n",
       "                            OrderedDict([('max_ratio', 1.0),\n",
       "                                         ('average_error_ratio_128',\n",
       "                                          0.28392932730882503)]))])),\n",
       "             ('lq', OrderedDict())])"
      ]
     },
     "execution_count": 126,
     "metadata": {},
     "output_type": "execute_result"
    }
   ],
   "source": [
    "# model4 test5\n",
    "m4_image_test5 = m4_images[4].crop((300,0,1124,704))\n",
    "m4_test5_max = compute_max_stress_ratio(4, np.array(m4_image_test5).flatten().min())\n",
    "m4_test5_error = compute_average_error_ratio(m4_image_test5, 4, 128)\n",
    "stress_results[results[3]][test_results[4]] = OrderedDict()\n",
    "stress_results[results[3]][test_results[4]][\"max_ratio\"] = m4_test5_max\n",
    "stress_results[results[3]][test_results[4]][\"average_error_ratio_128\"] = m4_test5_error\n",
    "stress_results"
   ]
  },
  {
   "cell_type": "code",
   "execution_count": 20,
   "metadata": {},
   "outputs": [],
   "source": [
    "import pandas as pd"
   ]
  },
  {
   "cell_type": "code",
   "execution_count": 277,
   "metadata": {},
   "outputs": [
    {
     "data": {
      "text/html": [
       "<div>\n",
       "<style scoped>\n",
       "    .dataframe tbody tr th:only-of-type {\n",
       "        vertical-align: middle;\n",
       "    }\n",
       "\n",
       "    .dataframe tbody tr th {\n",
       "        vertical-align: top;\n",
       "    }\n",
       "\n",
       "    .dataframe thead th {\n",
       "        text-align: right;\n",
       "    }\n",
       "</style>\n",
       "<table border=\"1\" class=\"dataframe\">\n",
       "  <thead>\n",
       "    <tr style=\"text-align: right;\">\n",
       "      <th></th>\n",
       "      <th>test1_gray</th>\n",
       "      <th>test2_gray</th>\n",
       "      <th>test3_gray</th>\n",
       "      <th>test4_gray</th>\n",
       "      <th>test5_gray</th>\n",
       "    </tr>\n",
       "  </thead>\n",
       "  <tbody>\n",
       "    <tr>\n",
       "      <th>max_ratio</th>\n",
       "      <td>1.000000</td>\n",
       "      <td>1.000000</td>\n",
       "      <td>1.000000</td>\n",
       "      <td>0.956882</td>\n",
       "      <td>1.000000</td>\n",
       "    </tr>\n",
       "    <tr>\n",
       "      <th>average_error_ratio</th>\n",
       "      <td>0.326975</td>\n",
       "      <td>0.385378</td>\n",
       "      <td>0.123995</td>\n",
       "      <td>0.201729</td>\n",
       "      <td>0.404527</td>\n",
       "    </tr>\n",
       "  </tbody>\n",
       "</table>\n",
       "</div>"
      ],
      "text/plain": [
       "                     test1_gray  test2_gray  test3_gray  test4_gray  \\\n",
       "max_ratio              1.000000    1.000000    1.000000    0.956882   \n",
       "average_error_ratio    0.326975    0.385378    0.123995    0.201729   \n",
       "\n",
       "                     test5_gray  \n",
       "max_ratio              1.000000  \n",
       "average_error_ratio    0.404527  "
      ]
     },
     "execution_count": 277,
     "metadata": {},
     "output_type": "execute_result"
    }
   ],
   "source": [
    "pd.DataFrame(stress_results[results[0]])"
   ]
  },
  {
   "cell_type": "code",
   "execution_count": 278,
   "metadata": {},
   "outputs": [
    {
     "data": {
      "text/html": [
       "<div>\n",
       "<style scoped>\n",
       "    .dataframe tbody tr th:only-of-type {\n",
       "        vertical-align: middle;\n",
       "    }\n",
       "\n",
       "    .dataframe tbody tr th {\n",
       "        vertical-align: top;\n",
       "    }\n",
       "\n",
       "    .dataframe thead th {\n",
       "        text-align: right;\n",
       "    }\n",
       "</style>\n",
       "<table border=\"1\" class=\"dataframe\">\n",
       "  <thead>\n",
       "    <tr style=\"text-align: right;\">\n",
       "      <th></th>\n",
       "      <th>test1_gray</th>\n",
       "      <th>test2_gray</th>\n",
       "      <th>test3_gray</th>\n",
       "      <th>test4_gray</th>\n",
       "      <th>test5_gray</th>\n",
       "    </tr>\n",
       "  </thead>\n",
       "  <tbody>\n",
       "    <tr>\n",
       "      <th>max_ratio</th>\n",
       "      <td>0.011804</td>\n",
       "      <td>0.018198</td>\n",
       "      <td>0.016097</td>\n",
       "      <td>0.012216</td>\n",
       "      <td>0.018110</td>\n",
       "    </tr>\n",
       "    <tr>\n",
       "      <th>average_error_ratio</th>\n",
       "      <td>0.840707</td>\n",
       "      <td>0.822574</td>\n",
       "      <td>0.811848</td>\n",
       "      <td>0.948866</td>\n",
       "      <td>0.856117</td>\n",
       "    </tr>\n",
       "  </tbody>\n",
       "</table>\n",
       "</div>"
      ],
      "text/plain": [
       "                     test1_gray  test2_gray  test3_gray  test4_gray  \\\n",
       "max_ratio              0.011804    0.018198    0.016097    0.012216   \n",
       "average_error_ratio    0.840707    0.822574    0.811848    0.948866   \n",
       "\n",
       "                     test5_gray  \n",
       "max_ratio              0.018110  \n",
       "average_error_ratio    0.856117  "
      ]
     },
     "execution_count": 278,
     "metadata": {},
     "output_type": "execute_result"
    }
   ],
   "source": [
    "pd.DataFrame(stress_results[results[1]])"
   ]
  },
  {
   "cell_type": "code",
   "execution_count": 279,
   "metadata": {},
   "outputs": [
    {
     "data": {
      "text/html": [
       "<div>\n",
       "<style scoped>\n",
       "    .dataframe tbody tr th:only-of-type {\n",
       "        vertical-align: middle;\n",
       "    }\n",
       "\n",
       "    .dataframe tbody tr th {\n",
       "        vertical-align: top;\n",
       "    }\n",
       "\n",
       "    .dataframe thead th {\n",
       "        text-align: right;\n",
       "    }\n",
       "</style>\n",
       "<table border=\"1\" class=\"dataframe\">\n",
       "  <thead>\n",
       "    <tr style=\"text-align: right;\">\n",
       "      <th></th>\n",
       "      <th>test1_gray</th>\n",
       "      <th>test2_gray</th>\n",
       "      <th>test3_gray</th>\n",
       "      <th>test4_gray</th>\n",
       "      <th>test5_gray</th>\n",
       "    </tr>\n",
       "  </thead>\n",
       "  <tbody>\n",
       "    <tr>\n",
       "      <th>max_ratio</th>\n",
       "      <td>0.917650</td>\n",
       "      <td>0.894807</td>\n",
       "      <td>1.00000</td>\n",
       "      <td>1.00000</td>\n",
       "      <td>1.000000</td>\n",
       "    </tr>\n",
       "    <tr>\n",
       "      <th>average_error_ratio</th>\n",
       "      <td>0.316164</td>\n",
       "      <td>0.138909</td>\n",
       "      <td>0.13064</td>\n",
       "      <td>0.17667</td>\n",
       "      <td>0.353547</td>\n",
       "    </tr>\n",
       "  </tbody>\n",
       "</table>\n",
       "</div>"
      ],
      "text/plain": [
       "                     test1_gray  test2_gray  test3_gray  test4_gray  \\\n",
       "max_ratio              0.917650    0.894807     1.00000     1.00000   \n",
       "average_error_ratio    0.316164    0.138909     0.13064     0.17667   \n",
       "\n",
       "                     test5_gray  \n",
       "max_ratio              1.000000  \n",
       "average_error_ratio    0.353547  "
      ]
     },
     "execution_count": 279,
     "metadata": {},
     "output_type": "execute_result"
    }
   ],
   "source": [
    "pd.DataFrame(stress_results[results[3]])"
   ]
  },
  {
   "cell_type": "code",
   "execution_count": 280,
   "metadata": {
    "scrolled": true
   },
   "outputs": [
    {
     "data": {
      "text/html": [
       "<div>\n",
       "<style scoped>\n",
       "    .dataframe tbody tr th:only-of-type {\n",
       "        vertical-align: middle;\n",
       "    }\n",
       "\n",
       "    .dataframe tbody tr th {\n",
       "        vertical-align: top;\n",
       "    }\n",
       "\n",
       "    .dataframe thead th {\n",
       "        text-align: right;\n",
       "    }\n",
       "</style>\n",
       "<table border=\"1\" class=\"dataframe\">\n",
       "  <thead>\n",
       "    <tr style=\"text-align: right;\">\n",
       "      <th></th>\n",
       "      <th>test1_gray</th>\n",
       "      <th>test2_gray</th>\n",
       "      <th>test3_gray</th>\n",
       "      <th>test4_gray</th>\n",
       "      <th>test5_gray</th>\n",
       "    </tr>\n",
       "  </thead>\n",
       "  <tbody>\n",
       "    <tr>\n",
       "      <th>max_ratio</th>\n",
       "      <td>0.980393</td>\n",
       "      <td>0.957144</td>\n",
       "      <td>1.000000</td>\n",
       "      <td>0.988241</td>\n",
       "      <td>1.000000</td>\n",
       "    </tr>\n",
       "    <tr>\n",
       "      <th>average_error_ratio</th>\n",
       "      <td>0.324333</td>\n",
       "      <td>0.172565</td>\n",
       "      <td>0.230777</td>\n",
       "      <td>0.067896</td>\n",
       "      <td>0.496102</td>\n",
       "    </tr>\n",
       "  </tbody>\n",
       "</table>\n",
       "</div>"
      ],
      "text/plain": [
       "                     test1_gray  test2_gray  test3_gray  test4_gray  \\\n",
       "max_ratio              0.980393    0.957144    1.000000    0.988241   \n",
       "average_error_ratio    0.324333    0.172565    0.230777    0.067896   \n",
       "\n",
       "                     test5_gray  \n",
       "max_ratio              1.000000  \n",
       "average_error_ratio    0.496102  "
      ]
     },
     "execution_count": 280,
     "metadata": {},
     "output_type": "execute_result"
    }
   ],
   "source": [
    "pd.DataFrame(stress_results[results[2]])"
   ]
  },
  {
   "cell_type": "code",
   "execution_count": 14,
   "metadata": {},
   "outputs": [],
   "source": [
    "cropped_lq_images = []"
   ]
  },
  {
   "cell_type": "code",
   "execution_count": 15,
   "metadata": {},
   "outputs": [],
   "source": [
    "lq_images[0].crop((400,0,1024,704))\n",
    "cropped_lq_images.append(lq_images[0].crop((400,0,1024,704)))"
   ]
  },
  {
   "cell_type": "code",
   "execution_count": 16,
   "metadata": {},
   "outputs": [],
   "source": [
    "lq_images[1].crop((400,0,1024,704))\n",
    "cropped_lq_images.append(lq_images[1].crop((400,0,1024,704)))"
   ]
  },
  {
   "cell_type": "code",
   "execution_count": 17,
   "metadata": {},
   "outputs": [],
   "source": [
    "lq_images[2].crop((40, 100, 1384, 604))\n",
    "cropped_lq_images.append(lq_images[2].crop((40,100,1384,604)))"
   ]
  },
  {
   "cell_type": "code",
   "execution_count": 18,
   "metadata": {},
   "outputs": [],
   "source": [
    "lq_images[3].crop((300, 0, 1124, 704))\n",
    "cropped_lq_images.append(lq_images[3].crop((300,0,1124,704)))"
   ]
  },
  {
   "cell_type": "code",
   "execution_count": 19,
   "metadata": {},
   "outputs": [],
   "source": [
    "lq_images[4].crop((300,0,1124,704))\n",
    "cropped_lq_images.append(lq_images[4].crop((300,0,1124,704)))"
   ]
  },
  {
   "cell_type": "code",
   "execution_count": 49,
   "metadata": {
    "scrolled": true
   },
   "outputs": [
    {
     "data": {
      "text/plain": [
       "OrderedDict([('ESRGAN_gray_x4_01_v2', OrderedDict()),\n",
       "             ('ESRGAN_gray_x4_02_v2', OrderedDict()),\n",
       "             ('ESRGAN_gray_x4_03_v2', OrderedDict()),\n",
       "             ('ESRGAN_gray_x4_04_v2', OrderedDict()),\n",
       "             ('lq', OrderedDict())])"
      ]
     },
     "execution_count": 49,
     "metadata": {},
     "output_type": "execute_result"
    }
   ],
   "source": [
    "stress_results['lq'] = OrderedDict()\n",
    "stress_results"
   ]
  },
  {
   "cell_type": "code",
   "execution_count": 128,
   "metadata": {
    "scrolled": true
   },
   "outputs": [
    {
     "name": "stderr",
     "output_type": "stream",
     "text": [
      "/Users/maruyan/.pyenv/versions/3.7.7/lib/python3.7/site-packages/ipykernel_launcher.py:10: RuntimeWarning: overflow encountered in ubyte_scalars\n",
      "  # Remove the CWD from sys.path while we load stuff.\n"
     ]
    },
    {
     "name": "stdout",
     "output_type": "stream",
     "text": [
      "1296\n",
      "69.35185185185185\n",
      "0.2719572152453748\n"
     ]
    },
    {
     "data": {
      "text/plain": [
       "OrderedDict([('ESRGAN_gray_x4_01_v2',\n",
       "              OrderedDict([('test1_gray',\n",
       "                            OrderedDict([('max_ratio', 1.0),\n",
       "                                         ('average_error_ratio_128',\n",
       "                                          0.3385244018875449)])),\n",
       "                           ('test2_gray',\n",
       "                            OrderedDict([('max_ratio', 1.0),\n",
       "                                         ('average_error_ratio_128',\n",
       "                                          0.556861919238395)])),\n",
       "                           ('test3_gray',\n",
       "                            OrderedDict([('max_ratio', 1.0),\n",
       "                                         ('average_error_ratio_128',\n",
       "                                          0.39200571052486116)])),\n",
       "                           ('test4_gray',\n",
       "                            OrderedDict([('max_ratio', 0.9568824451390862),\n",
       "                                         ('average_error_ratio_128',\n",
       "                                          0.2964687981145909)])),\n",
       "                           ('test5_gray',\n",
       "                            OrderedDict([('max_ratio', 1.0),\n",
       "                                         ('average_error_ratio_128',\n",
       "                                          0.5376435894392226)]))])),\n",
       "             ('ESRGAN_gray_x4_02_v2',\n",
       "              OrderedDict([('test1_gray',\n",
       "                            OrderedDict([('max_ratio', 0.011804062734563284),\n",
       "                                         ('average_error_ratio_128',\n",
       "                                          0.5829681885812265)])),\n",
       "                           ('test2_gray',\n",
       "                            OrderedDict([('max_ratio', 0.018197826362752138),\n",
       "                                         ('average_error_ratio_128',\n",
       "                                          0.5582547143299607)])),\n",
       "                           ('test3_gray',\n",
       "                            OrderedDict([('max_ratio', 0.016097099008764194),\n",
       "                                         ('average_error_ratio_128',\n",
       "                                          0.6261690609745101)])),\n",
       "                           ('test4_gray',\n",
       "                            OrderedDict([('max_ratio', 0.012216015913611818),\n",
       "                                         ('average_error_ratio_128',\n",
       "                                          0.5382800562505645)])),\n",
       "                           ('test5_gray',\n",
       "                            OrderedDict([('max_ratio', 0.018109791768517475),\n",
       "                                         ('average_error_ratio_128',\n",
       "                                          0.6120012007971385)]))])),\n",
       "             ('ESRGAN_gray_x4_03_v2',\n",
       "              OrderedDict([('test1_gray',\n",
       "                            OrderedDict([('max_ratio', 0.9803929377526699),\n",
       "                                         ('average_error_ratio_128',\n",
       "                                          0.16432715178861884)])),\n",
       "                           ('test2_gray',\n",
       "                            OrderedDict([('max_ratio', 0.9571435559126599),\n",
       "                                         ('average_error_ratio_128',\n",
       "                                          0.5398149465981182)])),\n",
       "                           ('test3_gray',\n",
       "                            OrderedDict([('max_ratio', 1.0),\n",
       "                                         ('average_error_ratio_128',\n",
       "                                          0.2609831603049064)])),\n",
       "                           ('test4_gray',\n",
       "                            OrderedDict([('max_ratio', 0.9882406668561144),\n",
       "                                         ('average_error_ratio_128',\n",
       "                                          0.2069861981350043)])),\n",
       "                           ('test5_gray',\n",
       "                            OrderedDict([('max_ratio', 1.0),\n",
       "                                         ('average_error_ratio_128',\n",
       "                                          0.5101814184351486)]))])),\n",
       "             ('ESRGAN_gray_x4_04_v2',\n",
       "              OrderedDict([('test1_gray',\n",
       "                            OrderedDict([('max_ratio', 0.9176503385612136),\n",
       "                                         ('average_error_ratio_128',\n",
       "                                          0.3535564829438313)])),\n",
       "                           ('test2_gray',\n",
       "                            OrderedDict([('max_ratio', 0.8948069099674377),\n",
       "                                         ('average_error_ratio_128',\n",
       "                                          0.2999305661173723)])),\n",
       "                           ('test3_gray',\n",
       "                            OrderedDict([('max_ratio', 1.0),\n",
       "                                         ('average_error_ratio_128',\n",
       "                                          0.09849873823083496)])),\n",
       "                           ('test4_gray',\n",
       "                            OrderedDict([('max_ratio', 1.0),\n",
       "                                         ('average_error_ratio_128',\n",
       "                                          0.17024540374952363)])),\n",
       "                           ('test5_gray',\n",
       "                            OrderedDict([('max_ratio', 1.0),\n",
       "                                         ('average_error_ratio_128',\n",
       "                                          0.28392932730882503)]))])),\n",
       "             ('lq',\n",
       "              OrderedDict([('test1_gray',\n",
       "                            OrderedDict([('max_ratio', 0.5960945177050001),\n",
       "                                         ('average_error_ratio_128',\n",
       "                                          0.2719572152453748)]))]))])"
      ]
     },
     "execution_count": 128,
     "metadata": {},
     "output_type": "execute_result"
    }
   ],
   "source": [
    "# lq test1\n",
    "lq_image_test1 = cropped_lq_images[0]\n",
    "lq_test1_max = compute_max_stress_ratio(0, np.array(lq_image_test1).flatten().min())\n",
    "lq_test1_error = compute_average_error_ratio(lq_image_test1, 0, 128)\n",
    "stress_results['lq'][test_results[0]] = OrderedDict()\n",
    "stress_results['lq'][test_results[0]][\"max_ratio\"] = lq_test1_max\n",
    "stress_results['lq'][test_results[0]][\"average_error_ratio_128\"] = lq_test1_error\n",
    "stress_results"
   ]
  },
  {
   "cell_type": "code",
   "execution_count": 129,
   "metadata": {
    "scrolled": true
   },
   "outputs": [
    {
     "name": "stderr",
     "output_type": "stream",
     "text": [
      "/Users/maruyan/.pyenv/versions/3.7.7/lib/python3.7/site-packages/ipykernel_launcher.py:10: RuntimeWarning: overflow encountered in ubyte_scalars\n",
      "  # Remove the CWD from sys.path while we load stuff.\n"
     ]
    },
    {
     "name": "stdout",
     "output_type": "stream",
     "text": [
      "17083\n",
      "185.1122168237429\n",
      "0.7212046700173028\n"
     ]
    },
    {
     "data": {
      "text/plain": [
       "OrderedDict([('ESRGAN_gray_x4_01_v2',\n",
       "              OrderedDict([('test1_gray',\n",
       "                            OrderedDict([('max_ratio', 1.0),\n",
       "                                         ('average_error_ratio_128',\n",
       "                                          0.3385244018875449)])),\n",
       "                           ('test2_gray',\n",
       "                            OrderedDict([('max_ratio', 1.0),\n",
       "                                         ('average_error_ratio_128',\n",
       "                                          0.556861919238395)])),\n",
       "                           ('test3_gray',\n",
       "                            OrderedDict([('max_ratio', 1.0),\n",
       "                                         ('average_error_ratio_128',\n",
       "                                          0.39200571052486116)])),\n",
       "                           ('test4_gray',\n",
       "                            OrderedDict([('max_ratio', 0.9568824451390862),\n",
       "                                         ('average_error_ratio_128',\n",
       "                                          0.2964687981145909)])),\n",
       "                           ('test5_gray',\n",
       "                            OrderedDict([('max_ratio', 1.0),\n",
       "                                         ('average_error_ratio_128',\n",
       "                                          0.5376435894392226)]))])),\n",
       "             ('ESRGAN_gray_x4_02_v2',\n",
       "              OrderedDict([('test1_gray',\n",
       "                            OrderedDict([('max_ratio', 0.011804062734563284),\n",
       "                                         ('average_error_ratio_128',\n",
       "                                          0.5829681885812265)])),\n",
       "                           ('test2_gray',\n",
       "                            OrderedDict([('max_ratio', 0.018197826362752138),\n",
       "                                         ('average_error_ratio_128',\n",
       "                                          0.5582547143299607)])),\n",
       "                           ('test3_gray',\n",
       "                            OrderedDict([('max_ratio', 0.016097099008764194),\n",
       "                                         ('average_error_ratio_128',\n",
       "                                          0.6261690609745101)])),\n",
       "                           ('test4_gray',\n",
       "                            OrderedDict([('max_ratio', 0.012216015913611818),\n",
       "                                         ('average_error_ratio_128',\n",
       "                                          0.5382800562505645)])),\n",
       "                           ('test5_gray',\n",
       "                            OrderedDict([('max_ratio', 0.018109791768517475),\n",
       "                                         ('average_error_ratio_128',\n",
       "                                          0.6120012007971385)]))])),\n",
       "             ('ESRGAN_gray_x4_03_v2',\n",
       "              OrderedDict([('test1_gray',\n",
       "                            OrderedDict([('max_ratio', 0.9803929377526699),\n",
       "                                         ('average_error_ratio_128',\n",
       "                                          0.16432715178861884)])),\n",
       "                           ('test2_gray',\n",
       "                            OrderedDict([('max_ratio', 0.9571435559126599),\n",
       "                                         ('average_error_ratio_128',\n",
       "                                          0.5398149465981182)])),\n",
       "                           ('test3_gray',\n",
       "                            OrderedDict([('max_ratio', 1.0),\n",
       "                                         ('average_error_ratio_128',\n",
       "                                          0.2609831603049064)])),\n",
       "                           ('test4_gray',\n",
       "                            OrderedDict([('max_ratio', 0.9882406668561144),\n",
       "                                         ('average_error_ratio_128',\n",
       "                                          0.2069861981350043)])),\n",
       "                           ('test5_gray',\n",
       "                            OrderedDict([('max_ratio', 1.0),\n",
       "                                         ('average_error_ratio_128',\n",
       "                                          0.5101814184351486)]))])),\n",
       "             ('ESRGAN_gray_x4_04_v2',\n",
       "              OrderedDict([('test1_gray',\n",
       "                            OrderedDict([('max_ratio', 0.9176503385612136),\n",
       "                                         ('average_error_ratio_128',\n",
       "                                          0.3535564829438313)])),\n",
       "                           ('test2_gray',\n",
       "                            OrderedDict([('max_ratio', 0.8948069099674377),\n",
       "                                         ('average_error_ratio_128',\n",
       "                                          0.2999305661173723)])),\n",
       "                           ('test3_gray',\n",
       "                            OrderedDict([('max_ratio', 1.0),\n",
       "                                         ('average_error_ratio_128',\n",
       "                                          0.09849873823083496)])),\n",
       "                           ('test4_gray',\n",
       "                            OrderedDict([('max_ratio', 1.0),\n",
       "                                         ('average_error_ratio_128',\n",
       "                                          0.17024540374952363)])),\n",
       "                           ('test5_gray',\n",
       "                            OrderedDict([('max_ratio', 1.0),\n",
       "                                         ('average_error_ratio_128',\n",
       "                                          0.28392932730882503)]))])),\n",
       "             ('lq',\n",
       "              OrderedDict([('test1_gray',\n",
       "                            OrderedDict([('max_ratio', 0.5960945177050001),\n",
       "                                         ('average_error_ratio_128',\n",
       "                                          0.2719572152453748)])),\n",
       "                           ('test2_gray',\n",
       "                            OrderedDict([('max_ratio', 0.8207821429074865),\n",
       "                                         ('average_error_ratio_128',\n",
       "                                          0.7212046700173028)]))]))])"
      ]
     },
     "execution_count": 129,
     "metadata": {},
     "output_type": "execute_result"
    }
   ],
   "source": [
    "# lq test2\n",
    "lq_image_test2 = cropped_lq_images[1]\n",
    "lq_test2_max = compute_max_stress_ratio(1, np.array(lq_image_test2).flatten().min())\n",
    "lq_test2_error = compute_average_error_ratio(lq_image_test2, 1, 128)\n",
    "stress_results['lq'][test_results[1]] = OrderedDict()\n",
    "stress_results['lq'][test_results[1]][\"max_ratio\"] = lq_test2_max\n",
    "stress_results['lq'][test_results[1]][\"average_error_ratio_128\"] = lq_test2_error\n",
    "stress_results"
   ]
  },
  {
   "cell_type": "code",
   "execution_count": 130,
   "metadata": {
    "scrolled": true
   },
   "outputs": [
    {
     "name": "stderr",
     "output_type": "stream",
     "text": [
      "/Users/maruyan/.pyenv/versions/3.7.7/lib/python3.7/site-packages/ipykernel_launcher.py:10: RuntimeWarning: overflow encountered in ubyte_scalars\n",
      "  # Remove the CWD from sys.path while we load stuff.\n"
     ]
    },
    {
     "name": "stdout",
     "output_type": "stream",
     "text": [
      "57909\n",
      "87.69661019876013\n",
      "0.3437647377755286\n"
     ]
    },
    {
     "data": {
      "text/plain": [
       "OrderedDict([('ESRGAN_gray_x4_01_v2',\n",
       "              OrderedDict([('test1_gray',\n",
       "                            OrderedDict([('max_ratio', 1.0),\n",
       "                                         ('average_error_ratio_128',\n",
       "                                          0.3385244018875449)])),\n",
       "                           ('test2_gray',\n",
       "                            OrderedDict([('max_ratio', 1.0),\n",
       "                                         ('average_error_ratio_128',\n",
       "                                          0.556861919238395)])),\n",
       "                           ('test3_gray',\n",
       "                            OrderedDict([('max_ratio', 1.0),\n",
       "                                         ('average_error_ratio_128',\n",
       "                                          0.39200571052486116)])),\n",
       "                           ('test4_gray',\n",
       "                            OrderedDict([('max_ratio', 0.9568824451390862),\n",
       "                                         ('average_error_ratio_128',\n",
       "                                          0.2964687981145909)])),\n",
       "                           ('test5_gray',\n",
       "                            OrderedDict([('max_ratio', 1.0),\n",
       "                                         ('average_error_ratio_128',\n",
       "                                          0.5376435894392226)]))])),\n",
       "             ('ESRGAN_gray_x4_02_v2',\n",
       "              OrderedDict([('test1_gray',\n",
       "                            OrderedDict([('max_ratio', 0.011804062734563284),\n",
       "                                         ('average_error_ratio_128',\n",
       "                                          0.5829681885812265)])),\n",
       "                           ('test2_gray',\n",
       "                            OrderedDict([('max_ratio', 0.018197826362752138),\n",
       "                                         ('average_error_ratio_128',\n",
       "                                          0.5582547143299607)])),\n",
       "                           ('test3_gray',\n",
       "                            OrderedDict([('max_ratio', 0.016097099008764194),\n",
       "                                         ('average_error_ratio_128',\n",
       "                                          0.6261690609745101)])),\n",
       "                           ('test4_gray',\n",
       "                            OrderedDict([('max_ratio', 0.012216015913611818),\n",
       "                                         ('average_error_ratio_128',\n",
       "                                          0.5382800562505645)])),\n",
       "                           ('test5_gray',\n",
       "                            OrderedDict([('max_ratio', 0.018109791768517475),\n",
       "                                         ('average_error_ratio_128',\n",
       "                                          0.6120012007971385)]))])),\n",
       "             ('ESRGAN_gray_x4_03_v2',\n",
       "              OrderedDict([('test1_gray',\n",
       "                            OrderedDict([('max_ratio', 0.9803929377526699),\n",
       "                                         ('average_error_ratio_128',\n",
       "                                          0.16432715178861884)])),\n",
       "                           ('test2_gray',\n",
       "                            OrderedDict([('max_ratio', 0.9571435559126599),\n",
       "                                         ('average_error_ratio_128',\n",
       "                                          0.5398149465981182)])),\n",
       "                           ('test3_gray',\n",
       "                            OrderedDict([('max_ratio', 1.0),\n",
       "                                         ('average_error_ratio_128',\n",
       "                                          0.2609831603049064)])),\n",
       "                           ('test4_gray',\n",
       "                            OrderedDict([('max_ratio', 0.9882406668561144),\n",
       "                                         ('average_error_ratio_128',\n",
       "                                          0.2069861981350043)])),\n",
       "                           ('test5_gray',\n",
       "                            OrderedDict([('max_ratio', 1.0),\n",
       "                                         ('average_error_ratio_128',\n",
       "                                          0.5101814184351486)]))])),\n",
       "             ('ESRGAN_gray_x4_04_v2',\n",
       "              OrderedDict([('test1_gray',\n",
       "                            OrderedDict([('max_ratio', 0.9176503385612136),\n",
       "                                         ('average_error_ratio_128',\n",
       "                                          0.3535564829438313)])),\n",
       "                           ('test2_gray',\n",
       "                            OrderedDict([('max_ratio', 0.8948069099674377),\n",
       "                                         ('average_error_ratio_128',\n",
       "                                          0.2999305661173723)])),\n",
       "                           ('test3_gray',\n",
       "                            OrderedDict([('max_ratio', 1.0),\n",
       "                                         ('average_error_ratio_128',\n",
       "                                          0.09849873823083496)])),\n",
       "                           ('test4_gray',\n",
       "                            OrderedDict([('max_ratio', 1.0),\n",
       "                                         ('average_error_ratio_128',\n",
       "                                          0.17024540374952363)])),\n",
       "                           ('test5_gray',\n",
       "                            OrderedDict([('max_ratio', 1.0),\n",
       "                                         ('average_error_ratio_128',\n",
       "                                          0.28392932730882503)]))])),\n",
       "             ('lq',\n",
       "              OrderedDict([('test1_gray',\n",
       "                            OrderedDict([('max_ratio', 0.5960945177050001),\n",
       "                                         ('average_error_ratio_128',\n",
       "                                          0.2719572152453748)])),\n",
       "                           ('test2_gray',\n",
       "                            OrderedDict([('max_ratio', 0.8207821429074865),\n",
       "                                         ('average_error_ratio_128',\n",
       "                                          0.7212046700173028)])),\n",
       "                           ('test3_gray',\n",
       "                            OrderedDict([('max_ratio', 0.7726439511653719),\n",
       "                                         ('average_error_ratio_128',\n",
       "                                          0.3437647377755286)]))]))])"
      ]
     },
     "execution_count": 130,
     "metadata": {},
     "output_type": "execute_result"
    }
   ],
   "source": [
    "# lq test3\n",
    "lq_image_test3 = cropped_lq_images[2]\n",
    "lq_test3_max = compute_max_stress_ratio(2, np.array(lq_image_test3).flatten().min())\n",
    "lq_test3_error = compute_average_error_ratio(lq_image_test3, 2, 128)\n",
    "stress_results['lq'][test_results[2]] = OrderedDict()\n",
    "stress_results['lq'][test_results[2]][\"max_ratio\"] = lq_test3_max\n",
    "stress_results['lq'][test_results[2]][\"average_error_ratio_128\"] = lq_test3_error\n",
    "stress_results"
   ]
  },
  {
   "cell_type": "code",
   "execution_count": 131,
   "metadata": {
    "scrolled": true
   },
   "outputs": [
    {
     "name": "stderr",
     "output_type": "stream",
     "text": [
      "/Users/maruyan/.pyenv/versions/3.7.7/lib/python3.7/site-packages/ipykernel_launcher.py:10: RuntimeWarning: overflow encountered in ubyte_scalars\n",
      "  # Remove the CWD from sys.path while we load stuff.\n"
     ]
    },
    {
     "name": "stdout",
     "output_type": "stream",
     "text": [
      "2752\n",
      "42.54360465116279\n",
      "0.16676147341159436\n"
     ]
    },
    {
     "data": {
      "text/plain": [
       "OrderedDict([('ESRGAN_gray_x4_01_v2',\n",
       "              OrderedDict([('test1_gray',\n",
       "                            OrderedDict([('max_ratio', 1.0),\n",
       "                                         ('average_error_ratio_128',\n",
       "                                          0.3385244018875449)])),\n",
       "                           ('test2_gray',\n",
       "                            OrderedDict([('max_ratio', 1.0),\n",
       "                                         ('average_error_ratio_128',\n",
       "                                          0.556861919238395)])),\n",
       "                           ('test3_gray',\n",
       "                            OrderedDict([('max_ratio', 1.0),\n",
       "                                         ('average_error_ratio_128',\n",
       "                                          0.39200571052486116)])),\n",
       "                           ('test4_gray',\n",
       "                            OrderedDict([('max_ratio', 0.9568824451390862),\n",
       "                                         ('average_error_ratio_128',\n",
       "                                          0.2964687981145909)])),\n",
       "                           ('test5_gray',\n",
       "                            OrderedDict([('max_ratio', 1.0),\n",
       "                                         ('average_error_ratio_128',\n",
       "                                          0.5376435894392226)]))])),\n",
       "             ('ESRGAN_gray_x4_02_v2',\n",
       "              OrderedDict([('test1_gray',\n",
       "                            OrderedDict([('max_ratio', 0.011804062734563284),\n",
       "                                         ('average_error_ratio_128',\n",
       "                                          0.5829681885812265)])),\n",
       "                           ('test2_gray',\n",
       "                            OrderedDict([('max_ratio', 0.018197826362752138),\n",
       "                                         ('average_error_ratio_128',\n",
       "                                          0.5582547143299607)])),\n",
       "                           ('test3_gray',\n",
       "                            OrderedDict([('max_ratio', 0.016097099008764194),\n",
       "                                         ('average_error_ratio_128',\n",
       "                                          0.6261690609745101)])),\n",
       "                           ('test4_gray',\n",
       "                            OrderedDict([('max_ratio', 0.012216015913611818),\n",
       "                                         ('average_error_ratio_128',\n",
       "                                          0.5382800562505645)])),\n",
       "                           ('test5_gray',\n",
       "                            OrderedDict([('max_ratio', 0.018109791768517475),\n",
       "                                         ('average_error_ratio_128',\n",
       "                                          0.6120012007971385)]))])),\n",
       "             ('ESRGAN_gray_x4_03_v2',\n",
       "              OrderedDict([('test1_gray',\n",
       "                            OrderedDict([('max_ratio', 0.9803929377526699),\n",
       "                                         ('average_error_ratio_128',\n",
       "                                          0.16432715178861884)])),\n",
       "                           ('test2_gray',\n",
       "                            OrderedDict([('max_ratio', 0.9571435559126599),\n",
       "                                         ('average_error_ratio_128',\n",
       "                                          0.5398149465981182)])),\n",
       "                           ('test3_gray',\n",
       "                            OrderedDict([('max_ratio', 1.0),\n",
       "                                         ('average_error_ratio_128',\n",
       "                                          0.2609831603049064)])),\n",
       "                           ('test4_gray',\n",
       "                            OrderedDict([('max_ratio', 0.9882406668561144),\n",
       "                                         ('average_error_ratio_128',\n",
       "                                          0.2069861981350043)])),\n",
       "                           ('test5_gray',\n",
       "                            OrderedDict([('max_ratio', 1.0),\n",
       "                                         ('average_error_ratio_128',\n",
       "                                          0.5101814184351486)]))])),\n",
       "             ('ESRGAN_gray_x4_04_v2',\n",
       "              OrderedDict([('test1_gray',\n",
       "                            OrderedDict([('max_ratio', 0.9176503385612136),\n",
       "                                         ('average_error_ratio_128',\n",
       "                                          0.3535564829438313)])),\n",
       "                           ('test2_gray',\n",
       "                            OrderedDict([('max_ratio', 0.8948069099674377),\n",
       "                                         ('average_error_ratio_128',\n",
       "                                          0.2999305661173723)])),\n",
       "                           ('test3_gray',\n",
       "                            OrderedDict([('max_ratio', 1.0),\n",
       "                                         ('average_error_ratio_128',\n",
       "                                          0.09849873823083496)])),\n",
       "                           ('test4_gray',\n",
       "                            OrderedDict([('max_ratio', 1.0),\n",
       "                                         ('average_error_ratio_128',\n",
       "                                          0.17024540374952363)])),\n",
       "                           ('test5_gray',\n",
       "                            OrderedDict([('max_ratio', 1.0),\n",
       "                                         ('average_error_ratio_128',\n",
       "                                          0.28392932730882503)]))])),\n",
       "             ('lq',\n",
       "              OrderedDict([('test1_gray',\n",
       "                            OrderedDict([('max_ratio', 0.5960945177050001),\n",
       "                                         ('average_error_ratio_128',\n",
       "                                          0.2719572152453748)])),\n",
       "                           ('test2_gray',\n",
       "                            OrderedDict([('max_ratio', 0.8207821429074865),\n",
       "                                         ('average_error_ratio_128',\n",
       "                                          0.7212046700173028)])),\n",
       "                           ('test3_gray',\n",
       "                            OrderedDict([('max_ratio', 0.7726439511653719),\n",
       "                                         ('average_error_ratio_128',\n",
       "                                          0.3437647377755286)])),\n",
       "                           ('test4_gray',\n",
       "                            OrderedDict([('max_ratio', 0.5962628953932619),\n",
       "                                         ('average_error_ratio_128',\n",
       "                                          0.16676147341159436)]))]))])"
      ]
     },
     "execution_count": 131,
     "metadata": {},
     "output_type": "execute_result"
    }
   ],
   "source": [
    "# lq test4\n",
    "lq_image_test4 = cropped_lq_images[3]\n",
    "lq_test4_max = compute_max_stress_ratio(3, np.array(lq_image_test4).flatten().min())\n",
    "lq_test4_error = compute_average_error_ratio(lq_image_test4, 3, 128)\n",
    "stress_results['lq'][test_results[3]] = OrderedDict()\n",
    "stress_results['lq'][test_results[3]][\"max_ratio\"] = lq_test4_max\n",
    "stress_results['lq'][test_results[3]][\"average_error_ratio_128\"] = lq_test4_error\n",
    "stress_results"
   ]
  },
  {
   "cell_type": "code",
   "execution_count": 132,
   "metadata": {},
   "outputs": [
    {
     "name": "stderr",
     "output_type": "stream",
     "text": [
      "/Users/maruyan/.pyenv/versions/3.7.7/lib/python3.7/site-packages/ipykernel_launcher.py:10: RuntimeWarning: overflow encountered in ubyte_scalars\n",
      "  # Remove the CWD from sys.path while we load stuff.\n"
     ]
    },
    {
     "name": "stdout",
     "output_type": "stream",
     "text": [
      "20891\n",
      "82.72203341151692\n",
      "0.3223172802054206\n"
     ]
    },
    {
     "data": {
      "text/plain": [
       "OrderedDict([('ESRGAN_gray_x4_01_v2',\n",
       "              OrderedDict([('test1_gray',\n",
       "                            OrderedDict([('max_ratio', 1.0),\n",
       "                                         ('average_error_ratio_128',\n",
       "                                          0.3385244018875449)])),\n",
       "                           ('test2_gray',\n",
       "                            OrderedDict([('max_ratio', 1.0),\n",
       "                                         ('average_error_ratio_128',\n",
       "                                          0.556861919238395)])),\n",
       "                           ('test3_gray',\n",
       "                            OrderedDict([('max_ratio', 1.0),\n",
       "                                         ('average_error_ratio_128',\n",
       "                                          0.39200571052486116)])),\n",
       "                           ('test4_gray',\n",
       "                            OrderedDict([('max_ratio', 0.9568824451390862),\n",
       "                                         ('average_error_ratio_128',\n",
       "                                          0.2964687981145909)])),\n",
       "                           ('test5_gray',\n",
       "                            OrderedDict([('max_ratio', 1.0),\n",
       "                                         ('average_error_ratio_128',\n",
       "                                          0.5376435894392226)]))])),\n",
       "             ('ESRGAN_gray_x4_02_v2',\n",
       "              OrderedDict([('test1_gray',\n",
       "                            OrderedDict([('max_ratio', 0.011804062734563284),\n",
       "                                         ('average_error_ratio_128',\n",
       "                                          0.5829681885812265)])),\n",
       "                           ('test2_gray',\n",
       "                            OrderedDict([('max_ratio', 0.018197826362752138),\n",
       "                                         ('average_error_ratio_128',\n",
       "                                          0.5582547143299607)])),\n",
       "                           ('test3_gray',\n",
       "                            OrderedDict([('max_ratio', 0.016097099008764194),\n",
       "                                         ('average_error_ratio_128',\n",
       "                                          0.6261690609745101)])),\n",
       "                           ('test4_gray',\n",
       "                            OrderedDict([('max_ratio', 0.012216015913611818),\n",
       "                                         ('average_error_ratio_128',\n",
       "                                          0.5382800562505645)])),\n",
       "                           ('test5_gray',\n",
       "                            OrderedDict([('max_ratio', 0.018109791768517475),\n",
       "                                         ('average_error_ratio_128',\n",
       "                                          0.6120012007971385)]))])),\n",
       "             ('ESRGAN_gray_x4_03_v2',\n",
       "              OrderedDict([('test1_gray',\n",
       "                            OrderedDict([('max_ratio', 0.9803929377526699),\n",
       "                                         ('average_error_ratio_128',\n",
       "                                          0.16432715178861884)])),\n",
       "                           ('test2_gray',\n",
       "                            OrderedDict([('max_ratio', 0.9571435559126599),\n",
       "                                         ('average_error_ratio_128',\n",
       "                                          0.5398149465981182)])),\n",
       "                           ('test3_gray',\n",
       "                            OrderedDict([('max_ratio', 1.0),\n",
       "                                         ('average_error_ratio_128',\n",
       "                                          0.2609831603049064)])),\n",
       "                           ('test4_gray',\n",
       "                            OrderedDict([('max_ratio', 0.9882406668561144),\n",
       "                                         ('average_error_ratio_128',\n",
       "                                          0.2069861981350043)])),\n",
       "                           ('test5_gray',\n",
       "                            OrderedDict([('max_ratio', 1.0),\n",
       "                                         ('average_error_ratio_128',\n",
       "                                          0.5101814184351486)]))])),\n",
       "             ('ESRGAN_gray_x4_04_v2',\n",
       "              OrderedDict([('test1_gray',\n",
       "                            OrderedDict([('max_ratio', 0.9176503385612136),\n",
       "                                         ('average_error_ratio_128',\n",
       "                                          0.3535564829438313)])),\n",
       "                           ('test2_gray',\n",
       "                            OrderedDict([('max_ratio', 0.8948069099674377),\n",
       "                                         ('average_error_ratio_128',\n",
       "                                          0.2999305661173723)])),\n",
       "                           ('test3_gray',\n",
       "                            OrderedDict([('max_ratio', 1.0),\n",
       "                                         ('average_error_ratio_128',\n",
       "                                          0.09849873823083496)])),\n",
       "                           ('test4_gray',\n",
       "                            OrderedDict([('max_ratio', 1.0),\n",
       "                                         ('average_error_ratio_128',\n",
       "                                          0.17024540374952363)])),\n",
       "                           ('test5_gray',\n",
       "                            OrderedDict([('max_ratio', 1.0),\n",
       "                                         ('average_error_ratio_128',\n",
       "                                          0.28392932730882503)]))])),\n",
       "             ('lq',\n",
       "              OrderedDict([('test1_gray',\n",
       "                            OrderedDict([('max_ratio', 0.5960945177050001),\n",
       "                                         ('average_error_ratio_128',\n",
       "                                          0.2719572152453748)])),\n",
       "                           ('test2_gray',\n",
       "                            OrderedDict([('max_ratio', 0.8207821429074865),\n",
       "                                         ('average_error_ratio_128',\n",
       "                                          0.7212046700173028)])),\n",
       "                           ('test3_gray',\n",
       "                            OrderedDict([('max_ratio', 0.7726439511653719),\n",
       "                                         ('average_error_ratio_128',\n",
       "                                          0.3437647377755286)])),\n",
       "                           ('test4_gray',\n",
       "                            OrderedDict([('max_ratio', 0.5962628953932619),\n",
       "                                         ('average_error_ratio_128',\n",
       "                                          0.16676147341159436)])),\n",
       "                           ('test5_gray',\n",
       "                            OrderedDict([('max_ratio', 0.867522749683054),\n",
       "                                         ('average_error_ratio_128',\n",
       "                                          0.3223172802054206)]))]))])"
      ]
     },
     "execution_count": 132,
     "metadata": {},
     "output_type": "execute_result"
    }
   ],
   "source": [
    "# lq test5\n",
    "lq_image_test5 = cropped_lq_images[4]\n",
    "lq_test5_max = compute_max_stress_ratio(4, np.array(lq_image_test5).flatten().min())\n",
    "lq_test5_error = compute_average_error_ratio(lq_image_test5, 4, 128)\n",
    "stress_results['lq'][test_results[4]] = OrderedDict()\n",
    "stress_results['lq'][test_results[4]][\"max_ratio\"] = lq_test5_max\n",
    "stress_results['lq'][test_results[4]][\"average_error_ratio_128\"] = lq_test5_error\n",
    "stress_results"
   ]
  },
  {
   "cell_type": "code",
   "execution_count": 139,
   "metadata": {
    "scrolled": true
   },
   "outputs": [
    {
     "data": {
      "text/plain": [
       "max_ratio                  0.730661\n",
       "average_error_ratio_128    0.365201\n",
       "dtype: float64"
      ]
     },
     "execution_count": 139,
     "metadata": {},
     "output_type": "execute_result"
    }
   ],
   "source": [
    "pd.DataFrame(stress_results['lq']).mean(1)"
   ]
  },
  {
   "cell_type": "code",
   "execution_count": 140,
   "metadata": {},
   "outputs": [
    {
     "data": {
      "text/plain": [
       "max_ratio                  0.991376\n",
       "average_error_ratio_128    0.424301\n",
       "dtype: float64"
      ]
     },
     "execution_count": 140,
     "metadata": {},
     "output_type": "execute_result"
    }
   ],
   "source": [
    "pd.DataFrame(stress_results[results[0]]).mean(1)"
   ]
  },
  {
   "cell_type": "code",
   "execution_count": 141,
   "metadata": {},
   "outputs": [
    {
     "data": {
      "text/plain": [
       "max_ratio                  0.015285\n",
       "average_error_ratio_128    0.583535\n",
       "dtype: float64"
      ]
     },
     "execution_count": 141,
     "metadata": {},
     "output_type": "execute_result"
    }
   ],
   "source": [
    "pd.DataFrame(stress_results[results[1]]).mean(1)"
   ]
  },
  {
   "cell_type": "code",
   "execution_count": 142,
   "metadata": {},
   "outputs": [
    {
     "data": {
      "text/plain": [
       "max_ratio                  0.985155\n",
       "average_error_ratio_128    0.336459\n",
       "dtype: float64"
      ]
     },
     "execution_count": 142,
     "metadata": {},
     "output_type": "execute_result"
    }
   ],
   "source": [
    "pd.DataFrame(stress_results[results[2]]).mean(1)"
   ]
  },
  {
   "cell_type": "code",
   "execution_count": 143,
   "metadata": {},
   "outputs": [
    {
     "data": {
      "text/plain": [
       "max_ratio                  0.962491\n",
       "average_error_ratio_128    0.241232\n",
       "dtype: float64"
      ]
     },
     "execution_count": 143,
     "metadata": {},
     "output_type": "execute_result"
    }
   ],
   "source": [
    "pd.DataFrame(stress_results[results[3]]).mean(1)"
   ]
  },
  {
   "cell_type": "code",
   "execution_count": 304,
   "metadata": {
    "scrolled": true
   },
   "outputs": [
    {
     "data": {
      "image/png": "[encoded data removed]",
      "text/plain": [
       "<PIL.Image.Image image mode=L size=824x704 at 0x118838610>"
      ]
     },
     "execution_count": 304,
     "metadata": {},
     "output_type": "execute_result"
    }
   ],
   "source": [
    "cropped_lq_images[4].crop((300,0,1124,704))"
   ]
  },
  {
   "cell_type": "code",
   "execution_count": 26,
   "metadata": {
    "scrolled": true
   },
   "outputs": [
    {
     "name": "stderr",
     "output_type": "stream",
     "text": [
      "/Users/maruyan/.pyenv/versions/3.7.7/lib/python3.7/site-packages/ipykernel_launcher.py:10: RuntimeWarning: overflow encountered in ubyte_scalars\n",
      "  # Remove the CWD from sys.path while we load stuff.\n"
     ]
    },
    {
     "name": "stdout",
     "output_type": "stream",
     "text": [
      "20891\n",
      "0.3223172802054206\n"
     ]
    },
    {
     "data": {
      "image/png": "[encoded data removed]",
      "text/plain": [
       "<PIL.Image.Image image mode=L size=824x704 at 0x114259AD0>"
      ]
     },
     "execution_count": 26,
     "metadata": {},
     "output_type": "execute_result"
    }
   ],
   "source": [
    "lq_image_test5 = cropped_lq_images[4]\n",
    "compute_average_error_ratio(lq_image_test5, 4)\n",
    "lq_image_test5"
   ]
  },
  {
   "cell_type": "code",
   "execution_count": 25,
   "metadata": {
    "scrolled": true
   },
   "outputs": [
    {
     "name": "stderr",
     "output_type": "stream",
     "text": [
      "/Users/maruyan/.pyenv/versions/3.7.7/lib/python3.7/site-packages/ipykernel_launcher.py:10: RuntimeWarning: overflow encountered in ubyte_scalars\n",
      "  # Remove the CWD from sys.path while we load stuff.\n"
     ]
    },
    {
     "name": "stdout",
     "output_type": "stream",
     "text": [
      "20891\n",
      "0.5376435894392226\n"
     ]
    },
    {
     "data": {
      "image/png": "[encoded data removed]",
      "text/plain": [
       "<PIL.Image.Image image mode=L size=824x704 at 0x114289D90>"
      ]
     },
     "execution_count": 25,
     "metadata": {},
     "output_type": "execute_result"
    }
   ],
   "source": [
    "m1_image_test5 = m1_images[4].crop((300,0,1124,704))\n",
    "m1_test5_max = compute_max_stress_ratio(4, np.array(m1_image_test5).flatten().min())\n",
    "m1_test5_error = compute_average_error_ratio(m1_image_test5, 4)\n",
    "m1_test5_error\n",
    "m1_image_test5"
   ]
  },
  {
   "cell_type": "code",
   "execution_count": 29,
   "metadata": {},
   "outputs": [],
   "source": [
    "# 以下追加実験結果の分析\n",
    "stress_results['additional_test_1'] = OrderedDict()\n",
    "stress_results['additional_test_2'] = OrderedDict()"
   ]
  },
  {
   "cell_type": "code",
   "execution_count": 32,
   "metadata": {},
   "outputs": [
    {
     "name": "stderr",
     "output_type": "stream",
     "text": [
      "<ipython-input-4-45eb5b0ff628>:10: RuntimeWarning: overflow encountered in ubyte_scalars\n",
      "  error = np.abs(np.array(test_img)[x, y] - np.array(gt_img)[x, y])\n"
     ]
    },
    {
     "name": "stdout",
     "output_type": "stream",
     "text": [
      "144\n",
      "79.40277777777777\n",
      "0.3113710412999615\n",
      "1296\n",
      "41.986111111111114\n",
      "0.16464485881577468\n"
     ]
    },
    {
     "data": {
      "text/plain": [
       "OrderedDict([('ESRGAN_gray_x4_01_v2', OrderedDict()),\n",
       "             ('ESRGAN_gray_x4_02_v2', OrderedDict()),\n",
       "             ('ESRGAN_gray_x4_03_v2', OrderedDict()),\n",
       "             ('ESRGAN_gray_x4_04_v2', OrderedDict()),\n",
       "             ('additional_test_1',\n",
       "              OrderedDict([('test1_gray',\n",
       "                            OrderedDict([('max_ratio', 1.0),\n",
       "                                         ('average_error_ratio_64',\n",
       "                                          0.3113710412999615),\n",
       "                                         ('average_error_ratio_128',\n",
       "                                          0.16464485881577468)]))])),\n",
       "             ('additional_test_2', OrderedDict())])"
      ]
     },
     "execution_count": 32,
     "metadata": {},
     "output_type": "execute_result"
    }
   ],
   "source": [
    "ad_test1_img = additional_test_model1_images[0].crop((400,0,1024,704))\n",
    "ad_test1_max = compute_max_stress_ratio(0, np.array(ad_test1_img).flatten().min())\n",
    "ad_test1_error_64 = compute_average_error_ratio(ad_test1_img, 0, 64)\n",
    "ad_test1_error_128 = compute_average_error_ratio(ad_test1_img, 0, 128)\n",
    "stress_results['additional_test_1'][test_results[0]] = OrderedDict()\n",
    "stress_results['additional_test_1'][test_results[0]][\"max_ratio\"] = ad_test1_max\n",
    "stress_results['additional_test_1'][test_results[0]][\"average_error_ratio_64\"] = ad_test1_error_64\n",
    "stress_results['additional_test_1'][test_results[0]][\"average_error_ratio_128\"] = ad_test1_error_128\n",
    "stress_results"
   ]
  },
  {
   "cell_type": "code",
   "execution_count": 46,
   "metadata": {},
   "outputs": [
    {
     "name": "stdout",
     "output_type": "stream",
     "text": [
      "130\n",
      "48.41538461538462\n",
      "0.18862829306693646\n"
     ]
    },
    {
     "name": "stderr",
     "output_type": "stream",
     "text": [
      "<ipython-input-4-45eb5b0ff628>:10: RuntimeWarning: overflow encountered in ubyte_scalars\n",
      "  error = np.abs(np.array(test_img)[x, y] - np.array(gt_img)[x, y])\n"
     ]
    },
    {
     "name": "stdout",
     "output_type": "stream",
     "text": [
      "17083\n",
      "71.3634022127261\n",
      "0.2780346960738241\n"
     ]
    },
    {
     "data": {
      "text/plain": [
       "OrderedDict([('ESRGAN_gray_x4_01_v2', OrderedDict()),\n",
       "             ('ESRGAN_gray_x4_02_v2', OrderedDict()),\n",
       "             ('ESRGAN_gray_x4_03_v2', OrderedDict()),\n",
       "             ('ESRGAN_gray_x4_04_v2', OrderedDict()),\n",
       "             ('additional_test_1',\n",
       "              OrderedDict([('test1_gray',\n",
       "                            OrderedDict([('max_ratio', 1.0),\n",
       "                                         ('average_error_ratio_64',\n",
       "                                          0.3113710412999615),\n",
       "                                         ('average_error_ratio_128',\n",
       "                                          0.16464485881577468)])),\n",
       "                           ('test2_gray',\n",
       "                            OrderedDict([('max_ratio', 1.0),\n",
       "                                         ('average_error_ratio_64',\n",
       "                                          0.18862829306693646),\n",
       "                                         ('average_error_ratio_128',\n",
       "                                          0.2780346960738241)])),\n",
       "                           ('test3_gray',\n",
       "                            OrderedDict([('max_ratio', 1.0),\n",
       "                                         ('average_error_ratio_64',\n",
       "                                          0.119718386074975),\n",
       "                                         ('average_error_ratio_128',\n",
       "                                          0.08898872857334449)])),\n",
       "                           ('test4_gray',\n",
       "                            OrderedDict([('max_ratio', 0.9608022228537147),\n",
       "                                         ('average_error_ratio_64',\n",
       "                                          0.15366461921752061),\n",
       "                                         ('average_error_ratio_128',\n",
       "                                          0.10124905481263397)])),\n",
       "                           ('test5_gray',\n",
       "                            OrderedDict([('max_ratio', 1.0),\n",
       "                                         ('average_error_ratio_64',\n",
       "                                          0.3033136650520262),\n",
       "                                         ('average_error_ratio_128',\n",
       "                                          0.21143141160216114)]))])),\n",
       "             ('additional_test_2',\n",
       "              OrderedDict([('test1_gray',\n",
       "                            OrderedDict([('max_ratio', 0.7490296032341748),\n",
       "                                         ('average_error_ratio_64',\n",
       "                                          0.3276557957776051),\n",
       "                                         ('average_error_ratio_128',\n",
       "                                          0.1530016527158169)]))]))])"
      ]
     },
     "execution_count": 46,
     "metadata": {},
     "output_type": "execute_result"
    }
   ],
   "source": [
    "ad_test2_img = additional_test_model1_images[1].crop((400,0,1024,704))\n",
    "ad_test2_max = compute_max_stress_ratio(1, np.array(ad_test2_img).flatten().min())\n",
    "ad_test2_error_64 = compute_average_error_ratio(ad_test2_img, 1, 64)\n",
    "ad_test2_error_128 = compute_average_error_ratio(ad_test2_img, 1, 128)\n",
    "stress_results['additional_test_1'][test_results[1]] = OrderedDict()\n",
    "stress_results['additional_test_1'][test_results[1]][\"max_ratio\"] = ad_test2_max\n",
    "stress_results['additional_test_1'][test_results[1]][\"average_error_ratio_64\"] = ad_test2_error_64\n",
    "stress_results['additional_test_1'][test_results[1]][\"average_error_ratio_128\"] = ad_test2_error_128\n",
    "stress_results"
   ]
  },
  {
   "cell_type": "code",
   "execution_count": 39,
   "metadata": {},
   "outputs": [
    {
     "name": "stderr",
     "output_type": "stream",
     "text": [
      "<ipython-input-4-45eb5b0ff628>:10: RuntimeWarning: overflow encountered in ubyte_scalars\n",
      "  error = np.abs(np.array(test_img)[x, y] - np.array(gt_img)[x, y])\n"
     ]
    },
    {
     "name": "stdout",
     "output_type": "stream",
     "text": [
      "9515\n",
      "30.54093536521282\n",
      "0.119718386074975\n",
      "57909\n",
      "22.701600787442366\n",
      "0.08898872857334449\n"
     ]
    },
    {
     "data": {
      "text/plain": [
       "OrderedDict([('ESRGAN_gray_x4_01_v2', OrderedDict()),\n",
       "             ('ESRGAN_gray_x4_02_v2', OrderedDict()),\n",
       "             ('ESRGAN_gray_x4_03_v2', OrderedDict()),\n",
       "             ('ESRGAN_gray_x4_04_v2', OrderedDict()),\n",
       "             ('additional_test_1',\n",
       "              OrderedDict([('test1_gray',\n",
       "                            OrderedDict([('max_ratio', 1.0),\n",
       "                                         ('average_error_ratio_64',\n",
       "                                          0.3113710412999615),\n",
       "                                         ('average_error_ratio_128',\n",
       "                                          0.16464485881577468)])),\n",
       "                           ('test2_gray',\n",
       "                            OrderedDict([('max_ratio', 1.0),\n",
       "                                         ('average_error_ratio_64',\n",
       "                                          0.18862829306693646),\n",
       "                                         ('average_error_ratio_128',\n",
       "                                          0.2780346960738241)])),\n",
       "                           ('test3_gray',\n",
       "                            OrderedDict([('max_ratio', 1.0),\n",
       "                                         ('average_error_ratio_64',\n",
       "                                          0.119718386074975),\n",
       "                                         ('average_error_ratio_128',\n",
       "                                          0.08898872857334449)]))])),\n",
       "             ('additional_test_2', OrderedDict())])"
      ]
     },
     "execution_count": 39,
     "metadata": {},
     "output_type": "execute_result"
    }
   ],
   "source": [
    "ad_test3_img = additional_test_model1_images[2].crop((40,100,1384,604))\n",
    "ad_test3_max = compute_max_stress_ratio(2, np.array(ad_test3_img).flatten().min())\n",
    "ad_test3_error_64 = compute_average_error_ratio(ad_test3_img, 2, 64)\n",
    "ad_test3_error_128 = compute_average_error_ratio(ad_test3_img, 2, 128)\n",
    "stress_results['additional_test_1'][test_results[2]] = OrderedDict()\n",
    "stress_results['additional_test_1'][test_results[2]][\"max_ratio\"] = ad_test3_max\n",
    "stress_results['additional_test_1'][test_results[2]][\"average_error_ratio_64\"] = ad_test3_error_64\n",
    "stress_results['additional_test_1'][test_results[2]][\"average_error_ratio_128\"] = ad_test3_error_128\n",
    "stress_results"
   ]
  },
  {
   "cell_type": "code",
   "execution_count": 40,
   "metadata": {},
   "outputs": [
    {
     "name": "stdout",
     "output_type": "stream",
     "text": [
      "84\n",
      "39.20238095238095\n",
      "0.15366461921752061\n"
     ]
    },
    {
     "name": "stderr",
     "output_type": "stream",
     "text": [
      "<ipython-input-4-45eb5b0ff628>:10: RuntimeWarning: overflow encountered in ubyte_scalars\n",
      "  error = np.abs(np.array(test_img)[x, y] - np.array(gt_img)[x, y])\n"
     ]
    },
    {
     "name": "stdout",
     "output_type": "stream",
     "text": [
      "2752\n",
      "25.83030523255814\n",
      "0.10124905481263397\n"
     ]
    },
    {
     "data": {
      "text/plain": [
       "OrderedDict([('ESRGAN_gray_x4_01_v2', OrderedDict()),\n",
       "             ('ESRGAN_gray_x4_02_v2', OrderedDict()),\n",
       "             ('ESRGAN_gray_x4_03_v2', OrderedDict()),\n",
       "             ('ESRGAN_gray_x4_04_v2', OrderedDict()),\n",
       "             ('additional_test_1',\n",
       "              OrderedDict([('test1_gray',\n",
       "                            OrderedDict([('max_ratio', 1.0),\n",
       "                                         ('average_error_ratio_64',\n",
       "                                          0.3113710412999615),\n",
       "                                         ('average_error_ratio_128',\n",
       "                                          0.16464485881577468)])),\n",
       "                           ('test2_gray',\n",
       "                            OrderedDict([('max_ratio', 1.0),\n",
       "                                         ('average_error_ratio_64',\n",
       "                                          0.18862829306693646),\n",
       "                                         ('average_error_ratio_128',\n",
       "                                          0.2780346960738241)])),\n",
       "                           ('test3_gray',\n",
       "                            OrderedDict([('max_ratio', 1.0),\n",
       "                                         ('average_error_ratio_64',\n",
       "                                          0.119718386074975),\n",
       "                                         ('average_error_ratio_128',\n",
       "                                          0.08898872857334449)])),\n",
       "                           ('test4_gray',\n",
       "                            OrderedDict([('max_ratio', 0.9608022228537147),\n",
       "                                         ('average_error_ratio_64',\n",
       "                                          0.15366461921752061),\n",
       "                                         ('average_error_ratio_128',\n",
       "                                          0.10124905481263397)]))])),\n",
       "             ('additional_test_2', OrderedDict())])"
      ]
     },
     "execution_count": 40,
     "metadata": {},
     "output_type": "execute_result"
    }
   ],
   "source": [
    "ad_test4_img = additional_test_model1_images[3].crop((300,0,1124,704))\n",
    "ad_test4_max = compute_max_stress_ratio(3, np.array(ad_test4_img).flatten().min())\n",
    "ad_test4_error_64 = compute_average_error_ratio(ad_test4_img, 3, 64)\n",
    "ad_test4_error_128 = compute_average_error_ratio(ad_test4_img, 3, 128)\n",
    "stress_results['additional_test_1'][test_results[3]] = OrderedDict()\n",
    "stress_results['additional_test_1'][test_results[3]][\"max_ratio\"] = ad_test4_max\n",
    "stress_results['additional_test_1'][test_results[3]][\"average_error_ratio_64\"] = ad_test4_error_64\n",
    "stress_results['additional_test_1'][test_results[3]][\"average_error_ratio_128\"] = ad_test4_error_128\n",
    "stress_results"
   ]
  },
  {
   "cell_type": "code",
   "execution_count": 41,
   "metadata": {},
   "outputs": [
    {
     "name": "stderr",
     "output_type": "stream",
     "text": [
      "<ipython-input-4-45eb5b0ff628>:10: RuntimeWarning: overflow encountered in ubyte_scalars\n",
      "  error = np.abs(np.array(test_img)[x, y] - np.array(gt_img)[x, y])\n"
     ]
    },
    {
     "name": "stdout",
     "output_type": "stream",
     "text": [
      "3344\n",
      "77.8447966507177\n",
      "0.3033136650520262\n",
      "20891\n",
      "54.263414867646354\n",
      "0.21143141160216114\n"
     ]
    },
    {
     "data": {
      "text/plain": [
       "OrderedDict([('ESRGAN_gray_x4_01_v2', OrderedDict()),\n",
       "             ('ESRGAN_gray_x4_02_v2', OrderedDict()),\n",
       "             ('ESRGAN_gray_x4_03_v2', OrderedDict()),\n",
       "             ('ESRGAN_gray_x4_04_v2', OrderedDict()),\n",
       "             ('additional_test_1',\n",
       "              OrderedDict([('test1_gray',\n",
       "                            OrderedDict([('max_ratio', 1.0),\n",
       "                                         ('average_error_ratio_64',\n",
       "                                          0.3113710412999615),\n",
       "                                         ('average_error_ratio_128',\n",
       "                                          0.16464485881577468)])),\n",
       "                           ('test2_gray',\n",
       "                            OrderedDict([('max_ratio', 1.0),\n",
       "                                         ('average_error_ratio_64',\n",
       "                                          0.18862829306693646),\n",
       "                                         ('average_error_ratio_128',\n",
       "                                          0.2780346960738241)])),\n",
       "                           ('test3_gray',\n",
       "                            OrderedDict([('max_ratio', 1.0),\n",
       "                                         ('average_error_ratio_64',\n",
       "                                          0.119718386074975),\n",
       "                                         ('average_error_ratio_128',\n",
       "                                          0.08898872857334449)])),\n",
       "                           ('test4_gray',\n",
       "                            OrderedDict([('max_ratio', 0.9608022228537147),\n",
       "                                         ('average_error_ratio_64',\n",
       "                                          0.15366461921752061),\n",
       "                                         ('average_error_ratio_128',\n",
       "                                          0.10124905481263397)])),\n",
       "                           ('test5_gray',\n",
       "                            OrderedDict([('max_ratio', 1.0),\n",
       "                                         ('average_error_ratio_64',\n",
       "                                          0.3033136650520262),\n",
       "                                         ('average_error_ratio_128',\n",
       "                                          0.21143141160216114)]))])),\n",
       "             ('additional_test_2', OrderedDict())])"
      ]
     },
     "execution_count": 41,
     "metadata": {},
     "output_type": "execute_result"
    }
   ],
   "source": [
    "ad_test5_img = additional_test_model1_images[4].crop((300,0,1124,704))\n",
    "ad_test5_max = compute_max_stress_ratio(4, np.array(ad_test5_img).flatten().min())\n",
    "ad_test5_error_64 = compute_average_error_ratio(ad_test5_img, 4, 64)\n",
    "ad_test5_error_128 = compute_average_error_ratio(ad_test5_img, 4, 128)\n",
    "stress_results['additional_test_1'][test_results[4]] = OrderedDict()\n",
    "stress_results['additional_test_1'][test_results[4]][\"max_ratio\"] = ad_test5_max\n",
    "stress_results['additional_test_1'][test_results[4]][\"average_error_ratio_64\"] = ad_test5_error_64\n",
    "stress_results['additional_test_1'][test_results[4]][\"average_error_ratio_128\"] = ad_test5_error_128\n",
    "stress_results"
   ]
  },
  {
   "cell_type": "code",
   "execution_count": 43,
   "metadata": {},
   "outputs": [
    {
     "name": "stdout",
     "output_type": "stream",
     "text": [
      "144\n",
      "83.55555555555556\n",
      "0.3276557957776051\n"
     ]
    },
    {
     "name": "stderr",
     "output_type": "stream",
     "text": [
      "<ipython-input-4-45eb5b0ff628>:10: RuntimeWarning: overflow encountered in ubyte_scalars\n",
      "  error = np.abs(np.array(test_img)[x, y] - np.array(gt_img)[x, y])\n"
     ]
    },
    {
     "name": "stdout",
     "output_type": "stream",
     "text": [
      "1296\n",
      "39.016975308641975\n",
      "0.1530016527158169\n"
     ]
    },
    {
     "data": {
      "text/plain": [
       "OrderedDict([('ESRGAN_gray_x4_01_v2', OrderedDict()),\n",
       "             ('ESRGAN_gray_x4_02_v2', OrderedDict()),\n",
       "             ('ESRGAN_gray_x4_03_v2', OrderedDict()),\n",
       "             ('ESRGAN_gray_x4_04_v2', OrderedDict()),\n",
       "             ('additional_test_1',\n",
       "              OrderedDict([('test1_gray',\n",
       "                            OrderedDict([('max_ratio', 1.0),\n",
       "                                         ('average_error_ratio_64',\n",
       "                                          0.3113710412999615),\n",
       "                                         ('average_error_ratio_128',\n",
       "                                          0.16464485881577468)])),\n",
       "                           ('test2_gray',\n",
       "                            OrderedDict([('max_ratio', 1.0),\n",
       "                                         ('average_error_ratio_64',\n",
       "                                          0.18862829306693646),\n",
       "                                         ('average_error_ratio_128',\n",
       "                                          0.2780346960738241)])),\n",
       "                           ('test3_gray',\n",
       "                            OrderedDict([('max_ratio', 1.0),\n",
       "                                         ('average_error_ratio_64',\n",
       "                                          0.119718386074975),\n",
       "                                         ('average_error_ratio_128',\n",
       "                                          0.08898872857334449)])),\n",
       "                           ('test4_gray',\n",
       "                            OrderedDict([('max_ratio', 0.9608022228537147),\n",
       "                                         ('average_error_ratio_64',\n",
       "                                          0.15366461921752061),\n",
       "                                         ('average_error_ratio_128',\n",
       "                                          0.10124905481263397)])),\n",
       "                           ('test5_gray',\n",
       "                            OrderedDict([('max_ratio', 1.0),\n",
       "                                         ('average_error_ratio_64',\n",
       "                                          0.3033136650520262),\n",
       "                                         ('average_error_ratio_128',\n",
       "                                          0.21143141160216114)]))])),\n",
       "             ('additional_test_2',\n",
       "              OrderedDict([('test1_gray',\n",
       "                            OrderedDict([('max_ratio', 0.7490296032341748),\n",
       "                                         ('average_error_ratio_64',\n",
       "                                          0.3276557957776051),\n",
       "                                         ('average_error_ratio_128',\n",
       "                                          0.1530016527158169)]))]))])"
      ]
     },
     "execution_count": 43,
     "metadata": {},
     "output_type": "execute_result"
    }
   ],
   "source": [
    "ad2_test1_img = additional_test_model2_images[0].crop((400,0,1024,704))\n",
    "ad2_test1_max = compute_max_stress_ratio(0, np.array(ad2_test1_img).flatten().min())\n",
    "ad2_test1_error_64 = compute_average_error_ratio(ad2_test1_img, 0, 64)\n",
    "ad2_test1_error_128 = compute_average_error_ratio(ad2_test1_img, 0, 128)\n",
    "stress_results['additional_test_2'][test_results[0]] = OrderedDict()\n",
    "stress_results['additional_test_2'][test_results[0]][\"max_ratio\"] = ad2_test1_max\n",
    "stress_results['additional_test_2'][test_results[0]][\"average_error_ratio_64\"] = ad2_test1_error_64\n",
    "stress_results['additional_test_2'][test_results[0]][\"average_error_ratio_128\"] = ad2_test1_error_128\n",
    "stress_results"
   ]
  },
  {
   "cell_type": "code",
   "execution_count": 47,
   "metadata": {
    "scrolled": true
   },
   "outputs": [
    {
     "name": "stdout",
     "output_type": "stream",
     "text": [
      "130\n",
      "58.16923076923077\n",
      "0.2266296714604661\n"
     ]
    },
    {
     "name": "stderr",
     "output_type": "stream",
     "text": [
      "<ipython-input-4-45eb5b0ff628>:10: RuntimeWarning: overflow encountered in ubyte_scalars\n",
      "  error = np.abs(np.array(test_img)[x, y] - np.array(gt_img)[x, y])\n"
     ]
    },
    {
     "name": "stdout",
     "output_type": "stream",
     "text": [
      "17083\n",
      "152.0810747526781\n",
      "0.5925140069891592\n"
     ]
    },
    {
     "data": {
      "text/plain": [
       "OrderedDict([('ESRGAN_gray_x4_01_v2', OrderedDict()),\n",
       "             ('ESRGAN_gray_x4_02_v2', OrderedDict()),\n",
       "             ('ESRGAN_gray_x4_03_v2', OrderedDict()),\n",
       "             ('ESRGAN_gray_x4_04_v2', OrderedDict()),\n",
       "             ('additional_test_1',\n",
       "              OrderedDict([('test1_gray',\n",
       "                            OrderedDict([('max_ratio', 1.0),\n",
       "                                         ('average_error_ratio_64',\n",
       "                                          0.3113710412999615),\n",
       "                                         ('average_error_ratio_128',\n",
       "                                          0.16464485881577468)])),\n",
       "                           ('test2_gray',\n",
       "                            OrderedDict([('max_ratio', 1.0),\n",
       "                                         ('average_error_ratio_64',\n",
       "                                          0.18862829306693646),\n",
       "                                         ('average_error_ratio_128',\n",
       "                                          0.2780346960738241)])),\n",
       "                           ('test3_gray',\n",
       "                            OrderedDict([('max_ratio', 1.0),\n",
       "                                         ('average_error_ratio_64',\n",
       "                                          0.119718386074975),\n",
       "                                         ('average_error_ratio_128',\n",
       "                                          0.08898872857334449)])),\n",
       "                           ('test4_gray',\n",
       "                            OrderedDict([('max_ratio', 0.9608022228537147),\n",
       "                                         ('average_error_ratio_64',\n",
       "                                          0.15366461921752061),\n",
       "                                         ('average_error_ratio_128',\n",
       "                                          0.10124905481263397)])),\n",
       "                           ('test5_gray',\n",
       "                            OrderedDict([('max_ratio', 1.0),\n",
       "                                         ('average_error_ratio_64',\n",
       "                                          0.3033136650520262),\n",
       "                                         ('average_error_ratio_128',\n",
       "                                          0.21143141160216114)]))])),\n",
       "             ('additional_test_2',\n",
       "              OrderedDict([('test1_gray',\n",
       "                            OrderedDict([('max_ratio', 0.7490296032341748),\n",
       "                                         ('average_error_ratio_64',\n",
       "                                          0.3276557957776051),\n",
       "                                         ('average_error_ratio_128',\n",
       "                                          0.1530016527158169)])),\n",
       "                           ('test2_gray',\n",
       "                            OrderedDict([('max_ratio', 0.9415593944263544),\n",
       "                                         ('average_error_ratio_64',\n",
       "                                          0.2266296714604661),\n",
       "                                         ('average_error_ratio_128',\n",
       "                                          0.5925140069891592)]))]))])"
      ]
     },
     "execution_count": 47,
     "metadata": {},
     "output_type": "execute_result"
    }
   ],
   "source": [
    "ad2_test2_img = additional_test_model2_images[1].crop((400,0,1024,704))\n",
    "ad2_test2_max = compute_max_stress_ratio(1, np.array(ad2_test2_img).flatten().min())\n",
    "ad2_test2_error_64 = compute_average_error_ratio(ad2_test2_img, 1, 64)\n",
    "ad2_test2_error_128 = compute_average_error_ratio(ad2_test2_img, 1, 128)\n",
    "stress_results['additional_test_2'][test_results[1]] = OrderedDict()\n",
    "stress_results['additional_test_2'][test_results[1]][\"max_ratio\"] = ad2_test2_max\n",
    "stress_results['additional_test_2'][test_results[1]][\"average_error_ratio_64\"] = ad2_test2_error_64\n",
    "stress_results['additional_test_2'][test_results[1]][\"average_error_ratio_128\"] = ad2_test2_error_128\n",
    "stress_results"
   ]
  },
  {
   "cell_type": "code",
   "execution_count": 48,
   "metadata": {},
   "outputs": [
    {
     "name": "stderr",
     "output_type": "stream",
     "text": [
      "<ipython-input-4-45eb5b0ff628>:10: RuntimeWarning: overflow encountered in ubyte_scalars\n",
      "  error = np.abs(np.array(test_img)[x, y] - np.array(gt_img)[x, y])\n"
     ]
    },
    {
     "name": "stdout",
     "output_type": "stream",
     "text": [
      "9515\n",
      "45.8282711508145\n",
      "0.17964370092708903\n",
      "57909\n",
      "84.48624566129617\n",
      "0.3311803274900697\n"
     ]
    },
    {
     "data": {
      "text/plain": [
       "OrderedDict([('ESRGAN_gray_x4_01_v2', OrderedDict()),\n",
       "             ('ESRGAN_gray_x4_02_v2', OrderedDict()),\n",
       "             ('ESRGAN_gray_x4_03_v2', OrderedDict()),\n",
       "             ('ESRGAN_gray_x4_04_v2', OrderedDict()),\n",
       "             ('additional_test_1',\n",
       "              OrderedDict([('test1_gray',\n",
       "                            OrderedDict([('max_ratio', 1.0),\n",
       "                                         ('average_error_ratio_64',\n",
       "                                          0.3113710412999615),\n",
       "                                         ('average_error_ratio_128',\n",
       "                                          0.16464485881577468)])),\n",
       "                           ('test2_gray',\n",
       "                            OrderedDict([('max_ratio', 1.0),\n",
       "                                         ('average_error_ratio_64',\n",
       "                                          0.18862829306693646),\n",
       "                                         ('average_error_ratio_128',\n",
       "                                          0.2780346960738241)])),\n",
       "                           ('test3_gray',\n",
       "                            OrderedDict([('max_ratio', 1.0),\n",
       "                                         ('average_error_ratio_64',\n",
       "                                          0.119718386074975),\n",
       "                                         ('average_error_ratio_128',\n",
       "                                          0.08898872857334449)])),\n",
       "                           ('test4_gray',\n",
       "                            OrderedDict([('max_ratio', 0.9608022228537147),\n",
       "                                         ('average_error_ratio_64',\n",
       "                                          0.15366461921752061),\n",
       "                                         ('average_error_ratio_128',\n",
       "                                          0.10124905481263397)])),\n",
       "                           ('test5_gray',\n",
       "                            OrderedDict([('max_ratio', 1.0),\n",
       "                                         ('average_error_ratio_64',\n",
       "                                          0.3033136650520262),\n",
       "                                         ('average_error_ratio_128',\n",
       "                                          0.21143141160216114)]))])),\n",
       "             ('additional_test_2',\n",
       "              OrderedDict([('test1_gray',\n",
       "                            OrderedDict([('max_ratio', 0.7490296032341748),\n",
       "                                         ('average_error_ratio_64',\n",
       "                                          0.3276557957776051),\n",
       "                                         ('average_error_ratio_128',\n",
       "                                          0.1530016527158169)])),\n",
       "                           ('test2_gray',\n",
       "                            OrderedDict([('max_ratio', 0.9415593944263544),\n",
       "                                         ('average_error_ratio_64',\n",
       "                                          0.2266296714604661),\n",
       "                                         ('average_error_ratio_128',\n",
       "                                          0.5925140069891592)])),\n",
       "                           ('test3_gray',\n",
       "                            OrderedDict([('max_ratio', 1.0),\n",
       "                                         ('average_error_ratio_64',\n",
       "                                          0.17964370092708903),\n",
       "                                         ('average_error_ratio_128',\n",
       "                                          0.3311803274900697)]))]))])"
      ]
     },
     "execution_count": 48,
     "metadata": {},
     "output_type": "execute_result"
    }
   ],
   "source": [
    "ad2_test3_img = additional_test_model2_images[2].crop((40,100,1384,604))\n",
    "ad2_test3_max = compute_max_stress_ratio(2, np.array(ad2_test3_img).flatten().min())\n",
    "ad2_test3_error_64 = compute_average_error_ratio(ad2_test3_img, 2, 64)\n",
    "ad2_test3_error_128 = compute_average_error_ratio(ad2_test3_img, 2, 128)\n",
    "stress_results['additional_test_2'][test_results[2]] = OrderedDict()\n",
    "stress_results['additional_test_2'][test_results[2]][\"max_ratio\"] = ad2_test3_max\n",
    "stress_results['additional_test_2'][test_results[2]][\"average_error_ratio_64\"] = ad2_test3_error_64\n",
    "stress_results['additional_test_2'][test_results[2]][\"average_error_ratio_128\"] = ad2_test3_error_128\n",
    "stress_results"
   ]
  },
  {
   "cell_type": "code",
   "execution_count": 49,
   "metadata": {},
   "outputs": [
    {
     "name": "stdout",
     "output_type": "stream",
     "text": [
      "84\n",
      "45.916666666666664\n",
      "0.17998312673002642\n"
     ]
    },
    {
     "name": "stderr",
     "output_type": "stream",
     "text": [
      "<ipython-input-4-45eb5b0ff628>:10: RuntimeWarning: overflow encountered in ubyte_scalars\n",
      "  error = np.abs(np.array(test_img)[x, y] - np.array(gt_img)[x, y])\n"
     ]
    },
    {
     "name": "stdout",
     "output_type": "stream",
     "text": [
      "2752\n",
      "93.51199127906976\n",
      "0.3665462194662346\n"
     ]
    },
    {
     "data": {
      "text/plain": [
       "OrderedDict([('ESRGAN_gray_x4_01_v2', OrderedDict()),\n",
       "             ('ESRGAN_gray_x4_02_v2', OrderedDict()),\n",
       "             ('ESRGAN_gray_x4_03_v2', OrderedDict()),\n",
       "             ('ESRGAN_gray_x4_04_v2', OrderedDict()),\n",
       "             ('additional_test_1',\n",
       "              OrderedDict([('test1_gray',\n",
       "                            OrderedDict([('max_ratio', 1.0),\n",
       "                                         ('average_error_ratio_64',\n",
       "                                          0.3113710412999615),\n",
       "                                         ('average_error_ratio_128',\n",
       "                                          0.16464485881577468)])),\n",
       "                           ('test2_gray',\n",
       "                            OrderedDict([('max_ratio', 1.0),\n",
       "                                         ('average_error_ratio_64',\n",
       "                                          0.18862829306693646),\n",
       "                                         ('average_error_ratio_128',\n",
       "                                          0.2780346960738241)])),\n",
       "                           ('test3_gray',\n",
       "                            OrderedDict([('max_ratio', 1.0),\n",
       "                                         ('average_error_ratio_64',\n",
       "                                          0.119718386074975),\n",
       "                                         ('average_error_ratio_128',\n",
       "                                          0.08898872857334449)])),\n",
       "                           ('test4_gray',\n",
       "                            OrderedDict([('max_ratio', 0.9608022228537147),\n",
       "                                         ('average_error_ratio_64',\n",
       "                                          0.15366461921752061),\n",
       "                                         ('average_error_ratio_128',\n",
       "                                          0.10124905481263397)])),\n",
       "                           ('test5_gray',\n",
       "                            OrderedDict([('max_ratio', 1.0),\n",
       "                                         ('average_error_ratio_64',\n",
       "                                          0.3033136650520262),\n",
       "                                         ('average_error_ratio_128',\n",
       "                                          0.21143141160216114)]))])),\n",
       "             ('additional_test_2',\n",
       "              OrderedDict([('test1_gray',\n",
       "                            OrderedDict([('max_ratio', 0.7490296032341748),\n",
       "                                         ('average_error_ratio_64',\n",
       "                                          0.3276557957776051),\n",
       "                                         ('average_error_ratio_128',\n",
       "                                          0.1530016527158169)])),\n",
       "                           ('test2_gray',\n",
       "                            OrderedDict([('max_ratio', 0.9415593944263544),\n",
       "                                         ('average_error_ratio_64',\n",
       "                                          0.2266296714604661),\n",
       "                                         ('average_error_ratio_128',\n",
       "                                          0.5925140069891592)])),\n",
       "                           ('test3_gray',\n",
       "                            OrderedDict([('max_ratio', 1.0),\n",
       "                                         ('average_error_ratio_64',\n",
       "                                          0.17964370092708903),\n",
       "                                         ('average_error_ratio_128',\n",
       "                                          0.3311803274900697)])),\n",
       "                           ('test4_gray',\n",
       "                            OrderedDict([('max_ratio', 0.8471286691294876),\n",
       "                                         ('average_error_ratio_64',\n",
       "                                          0.17998312673002642),\n",
       "                                         ('average_error_ratio_128',\n",
       "                                          0.3665462194662346)]))]))])"
      ]
     },
     "execution_count": 49,
     "metadata": {},
     "output_type": "execute_result"
    }
   ],
   "source": [
    "ad2_test4_img = additional_test_model2_images[3].crop((300,0,1124,704))\n",
    "ad2_test4_max = compute_max_stress_ratio(3, np.array(ad2_test4_img).flatten().min())\n",
    "ad2_test4_error_64 = compute_average_error_ratio(ad2_test4_img, 3, 64)\n",
    "ad2_test4_error_128 = compute_average_error_ratio(ad2_test4_img, 3, 128)\n",
    "stress_results['additional_test_2'][test_results[3]] = OrderedDict()\n",
    "stress_results['additional_test_2'][test_results[3]][\"max_ratio\"] = ad2_test4_max\n",
    "stress_results['additional_test_2'][test_results[3]][\"average_error_ratio_64\"] = ad2_test4_error_64\n",
    "stress_results['additional_test_2'][test_results[3]][\"average_error_ratio_128\"] = ad2_test4_error_128\n",
    "stress_results"
   ]
  },
  {
   "cell_type": "code",
   "execution_count": 50,
   "metadata": {
    "scrolled": true
   },
   "outputs": [
    {
     "name": "stderr",
     "output_type": "stream",
     "text": [
      "<ipython-input-4-45eb5b0ff628>:10: RuntimeWarning: overflow encountered in ubyte_scalars\n",
      "  error = np.abs(np.array(test_img)[x, y] - np.array(gt_img)[x, y])\n"
     ]
    },
    {
     "name": "stdout",
     "output_type": "stream",
     "text": [
      "3344\n",
      "96.48026315789474\n",
      "0.37592470508862497\n",
      "20891\n",
      "129.0149825283615\n",
      "0.5026926510307697\n"
     ]
    },
    {
     "data": {
      "text/plain": [
       "OrderedDict([('ESRGAN_gray_x4_01_v2', OrderedDict()),\n",
       "             ('ESRGAN_gray_x4_02_v2', OrderedDict()),\n",
       "             ('ESRGAN_gray_x4_03_v2', OrderedDict()),\n",
       "             ('ESRGAN_gray_x4_04_v2', OrderedDict()),\n",
       "             ('additional_test_1',\n",
       "              OrderedDict([('test1_gray',\n",
       "                            OrderedDict([('max_ratio', 1.0),\n",
       "                                         ('average_error_ratio_64',\n",
       "                                          0.3113710412999615),\n",
       "                                         ('average_error_ratio_128',\n",
       "                                          0.16464485881577468)])),\n",
       "                           ('test2_gray',\n",
       "                            OrderedDict([('max_ratio', 1.0),\n",
       "                                         ('average_error_ratio_64',\n",
       "                                          0.18862829306693646),\n",
       "                                         ('average_error_ratio_128',\n",
       "                                          0.2780346960738241)])),\n",
       "                           ('test3_gray',\n",
       "                            OrderedDict([('max_ratio', 1.0),\n",
       "                                         ('average_error_ratio_64',\n",
       "                                          0.119718386074975),\n",
       "                                         ('average_error_ratio_128',\n",
       "                                          0.08898872857334449)])),\n",
       "                           ('test4_gray',\n",
       "                            OrderedDict([('max_ratio', 0.9608022228537147),\n",
       "                                         ('average_error_ratio_64',\n",
       "                                          0.15366461921752061),\n",
       "                                         ('average_error_ratio_128',\n",
       "                                          0.10124905481263397)])),\n",
       "                           ('test5_gray',\n",
       "                            OrderedDict([('max_ratio', 1.0),\n",
       "                                         ('average_error_ratio_64',\n",
       "                                          0.3033136650520262),\n",
       "                                         ('average_error_ratio_128',\n",
       "                                          0.21143141160216114)]))])),\n",
       "             ('additional_test_2',\n",
       "              OrderedDict([('test1_gray',\n",
       "                            OrderedDict([('max_ratio', 0.7490296032341748),\n",
       "                                         ('average_error_ratio_64',\n",
       "                                          0.3276557957776051),\n",
       "                                         ('average_error_ratio_128',\n",
       "                                          0.1530016527158169)])),\n",
       "                           ('test2_gray',\n",
       "                            OrderedDict([('max_ratio', 0.9415593944263544),\n",
       "                                         ('average_error_ratio_64',\n",
       "                                          0.2266296714604661),\n",
       "                                         ('average_error_ratio_128',\n",
       "                                          0.5925140069891592)])),\n",
       "                           ('test3_gray',\n",
       "                            OrderedDict([('max_ratio', 1.0),\n",
       "                                         ('average_error_ratio_64',\n",
       "                                          0.17964370092708903),\n",
       "                                         ('average_error_ratio_128',\n",
       "                                          0.3311803274900697)])),\n",
       "                           ('test4_gray',\n",
       "                            OrderedDict([('max_ratio', 0.8471286691294876),\n",
       "                                         ('average_error_ratio_64',\n",
       "                                          0.17998312673002642),\n",
       "                                         ('average_error_ratio_128',\n",
       "                                          0.3665462194662346)])),\n",
       "                           ('test5_gray',\n",
       "                            OrderedDict([('max_ratio', 1.0),\n",
       "                                         ('average_error_ratio_64',\n",
       "                                          0.37592470508862497),\n",
       "                                         ('average_error_ratio_128',\n",
       "                                          0.5026926510307697)]))]))])"
      ]
     },
     "execution_count": 50,
     "metadata": {},
     "output_type": "execute_result"
    }
   ],
   "source": [
    "ad2_test5_img = additional_test_model2_images[4].crop((300,0,1124,704))\n",
    "ad2_test5_max = compute_max_stress_ratio(4, np.array(ad2_test5_img).flatten().min())\n",
    "ad2_test5_error_64 = compute_average_error_ratio(ad2_test5_img, 4, 64)\n",
    "ad2_test5_error_128 = compute_average_error_ratio(ad2_test5_img, 4, 128)\n",
    "stress_results['additional_test_2'][test_results[4]] = OrderedDict()\n",
    "stress_results['additional_test_2'][test_results[4]][\"max_ratio\"] = ad2_test5_max\n",
    "stress_results['additional_test_2'][test_results[4]][\"average_error_ratio_64\"] = ad2_test5_error_64\n",
    "stress_results['additional_test_2'][test_results[4]][\"average_error_ratio_128\"] = ad2_test5_error_128\n",
    "stress_results"
   ]
  },
  {
   "cell_type": "code",
   "execution_count": 66,
   "metadata": {},
   "outputs": [
    {
     "name": "stdout",
     "output_type": "stream",
     "text": [
      "モデル1\\(全損失あり\\), discriminator_real_label = 0.8\n"
     ]
    },
    {
     "data": {
      "text/html": [
       "<div>\n",
       "<style scoped>\n",
       "    .dataframe tbody tr th:only-of-type {\n",
       "        vertical-align: middle;\n",
       "    }\n",
       "\n",
       "    .dataframe tbody tr th {\n",
       "        vertical-align: top;\n",
       "    }\n",
       "\n",
       "    .dataframe thead th {\n",
       "        text-align: right;\n",
       "    }\n",
       "</style>\n",
       "<table border=\"1\" class=\"dataframe\">\n",
       "  <thead>\n",
       "    <tr style=\"text-align: right;\">\n",
       "      <th></th>\n",
       "      <th>test1_gray</th>\n",
       "      <th>test2_gray</th>\n",
       "      <th>test3_gray</th>\n",
       "      <th>test4_gray</th>\n",
       "      <th>test5_gray</th>\n",
       "      <th>average</th>\n",
       "    </tr>\n",
       "  </thead>\n",
       "  <tbody>\n",
       "    <tr>\n",
       "      <th>max_ratio</th>\n",
       "      <td>1.000000</td>\n",
       "      <td>1.000000</td>\n",
       "      <td>1.000000</td>\n",
       "      <td>0.960802</td>\n",
       "      <td>1.000000</td>\n",
       "      <td>0.992160</td>\n",
       "    </tr>\n",
       "    <tr>\n",
       "      <th>average_error_ratio_64</th>\n",
       "      <td>0.311371</td>\n",
       "      <td>0.188628</td>\n",
       "      <td>0.119718</td>\n",
       "      <td>0.153665</td>\n",
       "      <td>0.303314</td>\n",
       "      <td>0.215339</td>\n",
       "    </tr>\n",
       "    <tr>\n",
       "      <th>average_error_ratio_128</th>\n",
       "      <td>0.164645</td>\n",
       "      <td>0.278035</td>\n",
       "      <td>0.088989</td>\n",
       "      <td>0.101249</td>\n",
       "      <td>0.211431</td>\n",
       "      <td>0.168870</td>\n",
       "    </tr>\n",
       "  </tbody>\n",
       "</table>\n",
       "</div>"
      ],
      "text/plain": [
       "                         test1_gray  test2_gray  test3_gray  test4_gray  \\\n",
       "max_ratio                  1.000000    1.000000    1.000000    0.960802   \n",
       "average_error_ratio_64     0.311371    0.188628    0.119718    0.153665   \n",
       "average_error_ratio_128    0.164645    0.278035    0.088989    0.101249   \n",
       "\n",
       "                         test5_gray   average  \n",
       "max_ratio                  1.000000  0.992160  \n",
       "average_error_ratio_64     0.303314  0.215339  \n",
       "average_error_ratio_128    0.211431  0.168870  "
      ]
     },
     "execution_count": 66,
     "metadata": {},
     "output_type": "execute_result"
    }
   ],
   "source": [
    "print('モデル1\\(全損失あり\\), discriminator_real_label = 0.8')\n",
    "ad1_df = pd.DataFrame(stress_results['additional_test_1'])\n",
    "ad1_df['average'] = ad1_df.mean(1)\n",
    "ad1_df"
   ]
  },
  {
   "cell_type": "code",
   "execution_count": 68,
   "metadata": {},
   "outputs": [
    {
     "name": "stdout",
     "output_type": "stream",
     "text": [
      "モデル2\\(知覚損失のみ\\), discriminator_real_label = 0.9\n"
     ]
    },
    {
     "data": {
      "text/html": [
       "<div>\n",
       "<style scoped>\n",
       "    .dataframe tbody tr th:only-of-type {\n",
       "        vertical-align: middle;\n",
       "    }\n",
       "\n",
       "    .dataframe tbody tr th {\n",
       "        vertical-align: top;\n",
       "    }\n",
       "\n",
       "    .dataframe thead th {\n",
       "        text-align: right;\n",
       "    }\n",
       "</style>\n",
       "<table border=\"1\" class=\"dataframe\">\n",
       "  <thead>\n",
       "    <tr style=\"text-align: right;\">\n",
       "      <th></th>\n",
       "      <th>test1_gray</th>\n",
       "      <th>test2_gray</th>\n",
       "      <th>test3_gray</th>\n",
       "      <th>test4_gray</th>\n",
       "      <th>test5_gray</th>\n",
       "      <th>average</th>\n",
       "    </tr>\n",
       "  </thead>\n",
       "  <tbody>\n",
       "    <tr>\n",
       "      <th>max_ratio</th>\n",
       "      <td>0.749030</td>\n",
       "      <td>0.941559</td>\n",
       "      <td>1.000000</td>\n",
       "      <td>0.847129</td>\n",
       "      <td>1.000000</td>\n",
       "      <td>0.907544</td>\n",
       "    </tr>\n",
       "    <tr>\n",
       "      <th>average_error_ratio_64</th>\n",
       "      <td>0.327656</td>\n",
       "      <td>0.226630</td>\n",
       "      <td>0.179644</td>\n",
       "      <td>0.179983</td>\n",
       "      <td>0.375925</td>\n",
       "      <td>0.257967</td>\n",
       "    </tr>\n",
       "    <tr>\n",
       "      <th>average_error_ratio_128</th>\n",
       "      <td>0.153002</td>\n",
       "      <td>0.592514</td>\n",
       "      <td>0.331180</td>\n",
       "      <td>0.366546</td>\n",
       "      <td>0.502693</td>\n",
       "      <td>0.389187</td>\n",
       "    </tr>\n",
       "  </tbody>\n",
       "</table>\n",
       "</div>"
      ],
      "text/plain": [
       "                         test1_gray  test2_gray  test3_gray  test4_gray  \\\n",
       "max_ratio                  0.749030    0.941559    1.000000    0.847129   \n",
       "average_error_ratio_64     0.327656    0.226630    0.179644    0.179983   \n",
       "average_error_ratio_128    0.153002    0.592514    0.331180    0.366546   \n",
       "\n",
       "                         test5_gray   average  \n",
       "max_ratio                  1.000000  0.907544  \n",
       "average_error_ratio_64     0.375925  0.257967  \n",
       "average_error_ratio_128    0.502693  0.389187  "
      ]
     },
     "execution_count": 68,
     "metadata": {},
     "output_type": "execute_result"
    }
   ],
   "source": [
    "print('モデル2\\(知覚損失のみ\\), discriminator_real_label = 0.9')\n",
    "ad2_df = pd.DataFrame(stress_results['additional_test_2'])\n",
    "ad2_df['average'] = ad2_df.mean(1)\n",
    "ad2_df"
   ]
  }
 ],
 "metadata": {
  "kernelspec": {
   "display_name": "Python 3",
   "language": "python",
   "name": "python3"
  },
  "language_info": {
   "codemirror_mode": {
    "name": "ipython",
    "version": 3
   },
   "file_extension": ".py",
   "mimetype": "text/x-python",
   "name": "python",
   "nbconvert_exporter": "python",
   "pygments_lexer": "ipython3",
   "version": "3.8.3"
  }
 },
 "nbformat": 4,
 "nbformat_minor": 4
}
